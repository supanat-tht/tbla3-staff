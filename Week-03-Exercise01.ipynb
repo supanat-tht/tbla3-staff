{
  "cells": [
    {
      "cell_type": "markdown",
      "metadata": {
        "id": "view-in-github",
        "colab_type": "text"
      },
      "source": [
        "<a href=\"https://colab.research.google.com/github/supanat-tht/tbla3-staff/blob/main/Week-03-Exercise01.ipynb\" target=\"_parent\"><img src=\"https://colab.research.google.com/assets/colab-badge.svg\" alt=\"Open In Colab\"/></a>"
      ]
    },
    {
      "cell_type": "markdown",
      "metadata": {
        "id": "xG9LPm7tV-QO"
      },
      "source": [
        "![alt text](https://drive.google.com/uc?export=view&id=1DXUVHxd4t15mfuqMgMCLnsP4jWVI5EWz)\n",
        "---\n",
        "\n",
        "<br>\n",
        "© 2022 Copyright The University of New South Wales - CRICOS 00098G\n",
        "\n",
        "**Author**: Oscar Perez-Concha: o.perezconcha@unsw.edu.au\n",
        "\n",
        "**Contributors/Co-authors**: Marta Fredes-Torres, Zhisheng (Sandy) Sa and Matthew Sainsbury-Dale.\n",
        "\n",
        "# Chapter 3: Model Evaluation and Improvement\n",
        "# Exercise 1: Cross-Validation for (just) performance evaluation purposes\n",
        "\n",
        "<b>Goal/Research question:</b> <font color=green> <b> To build a predictive algorithm and predict readmission to hospital 30 days after discharge. In particular, this exercise will assess how well our predictive algorithm generalises to unseen data. </b></font>\n",
        "\n",
        "\n",
        "# 1. Introduction\n",
        "\n",
        " 1. To become familiar with cross-validation for **model evaluation** - assessing generalisation to unseen data <font color=green>**(Step 5 of the ML work-flow)**</font>\n",
        " 2. Bear in mind, that cross-validation can be used to tune hyper-parameters as well, but we are not going to do that in this exercise.\n",
        "\n",
        "Useful readings:\n",
        "1. [A gentle introduction to k-fold cross-validation](https://machinelearningmastery.com/k-fold-cross-validation/)\n",
        "2. [How to train a final machine learning model](https://machinelearningmastery.com/train-final-machine-learning-model/)\n",
        "\n",
        "It aligns with all of the learning outcomes of our course: \n",
        "\n",
        "1.\tDistinguish a range of task specific machine learning techniques appropriate for Health Data Science.\n",
        "2.\tDesign machine learning tasks for Health Data Science scenarios.\n",
        "\n",
        "**NB Nomeclature:**\n",
        "Training, Validation and Test Set. \n",
        "\n",
        "* The training set, used to train the model\n",
        "* The validation set, used to evaluate model performance and adjust model hyper-parameters accordingly (for example, the $\\alpha$ for Ridge Regression). Therefore, the validation set is used as an intermediate step. \n",
        "* The test set, used for final model evaluation. Some textbooks use \"the term validation set\" for what we call \"test set\".\n",
        "\n",
        "Follow the instructions given and if you have any questions, please use the **Comment section** in **Open Learning**. "
      ]
    },
    {
      "cell_type": "code",
      "execution_count": 1,
      "metadata": {
        "id": "ROqym2oZV-QS"
      },
      "outputs": [],
      "source": [
        "import sys\n",
        "import numpy as np\n",
        "import pandas as pd\n",
        "from IPython.display import display\n"
      ]
    },
    {
      "cell_type": "code",
      "execution_count": 2,
      "metadata": {
        "id": "E70cMx0xV-QT"
      },
      "outputs": [],
      "source": [
        "# Ignore only Future Warnings\n",
        "# import warnings filter\n",
        "from warnings import simplefilter\n",
        "# ignore all future warnings\n",
        "simplefilter(action='ignore', category=FutureWarning)"
      ]
    },
    {
      "cell_type": "code",
      "execution_count": 3,
      "metadata": {
        "id": "KJ0qb9-LV-QU",
        "outputId": "7964354f-4b6f-4943-ddc7-f32c236a7c9b",
        "colab": {
          "base_uri": "https://localhost:8080/"
        }
      },
      "outputs": [
        {
          "output_type": "stream",
          "name": "stdout",
          "text": [
            "Mounted at /content/drive\n"
          ]
        }
      ],
      "source": [
        "# Mount Google Drive\n",
        "# We do not need to run this cell if you are not running this notebook in Google Colab\n",
        "\n",
        "if 'google.colab' in str(get_ipython()):\n",
        "    from google.colab import drive # import drive from Gogle colab\n",
        "    root = '/content/drive'     # default location for the drive\n",
        "    # print(root)                 # print content of ROOT (Optional)\n",
        "    drive.mount(root)\n",
        "else:\n",
        "    print('Not running on CoLab')"
      ]
    },
    {
      "cell_type": "code",
      "execution_count": 4,
      "metadata": {
        "id": "4a6IakgtV-QU"
      },
      "outputs": [],
      "source": [
        "from pathlib import Path\n",
        "\n",
        "if 'google.colab' in str(get_ipython()):\n",
        "    # EDIT THE PROJECT PATH IF DIFFERENT WITH YOUR ONE\n",
        "    project_path = Path(root) / 'MyDrive' / 'HDAT9500' / 'week03'\n",
        "\n",
        "    # OPTIONAL - set working directory according to your google drive project path\n",
        "    # import os\n",
        "    # Change directory to the location defined in project_path\n",
        "    # os.chdir(project_path)\n",
        "else:\n",
        "    project_path = Path()"
      ]
    },
    {
      "cell_type": "markdown",
      "metadata": {
        "id": "MluMxEqyV-QV"
      },
      "source": [
        "# 2. Docstring: \n",
        "\n",
        "Create a docstring with the variables and constants that you will use in this exercise (data dictionary) and the purpose of your program. It is expected that you choose informative variable names and document your program (both docstrings and comments)."
      ]
    },
    {
      "cell_type": "markdown",
      "metadata": {
        "id": "s1-beTdUV-QV"
      },
      "source": [
        "<b> Write the answer here:</b>\n",
        "#####################################################################################################################\n",
        "\n",
        "(double-click here)\n",
        "\n",
        "\n",
        "#####################################################################################################################"
      ]
    },
    {
      "cell_type": "markdown",
      "metadata": {
        "id": "-XphkBqhV-QV"
      },
      "source": [
        "# 3. Load the diabetes data set"
      ]
    },
    {
      "cell_type": "markdown",
      "metadata": {
        "id": "MqhMJnqhV-QW"
      },
      "source": [
        "Please note that we already cleaned and created dummy variables for the diabetes dataset. In the Exercise 1 of week 2 we saved this 'prepared' dataset using `pickle`. Now, we will load this data using `pickle` ([more information](https://docs.python.org/3/library/pickle.html))"
      ]
    },
    {
      "cell_type": "code",
      "execution_count": 7,
      "metadata": {
        "scrolled": true,
        "id": "xGeGCrFQV-QW",
        "outputId": "f8a42764-3e02-48c4-b915-fe733da39dbd",
        "colab": {
          "base_uri": "https://localhost:8080/",
          "height": 317
        }
      },
      "outputs": [
        {
          "output_type": "execute_result",
          "data": {
            "text/plain": [
              "   los  Age  number_diagnoses  num_lab_procedures  num_procedures  \\\n",
              "0    2   79                 9                  38               0   \n",
              "1    5   59                 8                  49               0   \n",
              "2    2   33                 5                  62               0   \n",
              "3    6   42                 9                  77               0   \n",
              "4    1   62                 7                  13               5   \n",
              "\n",
              "   num_medications  number_emergency  number_inpatient  number_outpatient  \\\n",
              "0               12                 0                 0                  0   \n",
              "1               16                 0                 0                  0   \n",
              "2               15                 1                 0                  1   \n",
              "3               30                 0                 0                  0   \n",
              "4                6                 0                 0                  0   \n",
              "\n",
              "   sex_Female  ...  admission_source_grouped_Other  \\\n",
              "0           1  ...                               0   \n",
              "1           0  ...                               0   \n",
              "2           1  ...                               0   \n",
              "3           1  ...                               0   \n",
              "4           0  ...                               0   \n",
              "\n",
              "   admission_source_grouped_Physician Referral  \\\n",
              "0                                            0   \n",
              "1                                            0   \n",
              "2                                            0   \n",
              "3                                            0   \n",
              "4                                            0   \n",
              "\n",
              "   admission_source_grouped_Transfer from SNF  \\\n",
              "0                                           0   \n",
              "1                                           0   \n",
              "2                                           0   \n",
              "3                                           0   \n",
              "4                                           0   \n",
              "\n",
              "   admission_source_grouped_Transfer from another health care facility  \\\n",
              "0                                                  0                     \n",
              "1                                                  0                     \n",
              "2                                                  0                     \n",
              "3                                                  0                     \n",
              "4                                                  0                     \n",
              "\n",
              "   admission_type_grouped_Elective  admission_type_grouped_Emergency  \\\n",
              "0                                1                                 0   \n",
              "1                                1                                 0   \n",
              "2                                1                                 0   \n",
              "3                                1                                 0   \n",
              "4                                1                                 0   \n",
              "\n",
              "   admission_type_grouped_Not Available/Null  \\\n",
              "0                                          0   \n",
              "1                                          0   \n",
              "2                                          0   \n",
              "3                                          0   \n",
              "4                                          0   \n",
              "\n",
              "   admission_type_grouped_Trauma Centre  admission_type_grouped_Urgent  \\\n",
              "0                                     0                              0   \n",
              "1                                     0                              0   \n",
              "2                                     0                              0   \n",
              "3                                     0                              0   \n",
              "4                                     0                              0   \n",
              "\n",
              "   readmission  \n",
              "0           no  \n",
              "1           no  \n",
              "2           no  \n",
              "3           no  \n",
              "4           no  \n",
              "\n",
              "[5 rows x 70 columns]"
            ],
            "text/html": [
              "\n",
              "  <div id=\"df-7ea0eb55-73ad-4981-95f4-e7c94584743b\">\n",
              "    <div class=\"colab-df-container\">\n",
              "      <div>\n",
              "<style scoped>\n",
              "    .dataframe tbody tr th:only-of-type {\n",
              "        vertical-align: middle;\n",
              "    }\n",
              "\n",
              "    .dataframe tbody tr th {\n",
              "        vertical-align: top;\n",
              "    }\n",
              "\n",
              "    .dataframe thead th {\n",
              "        text-align: right;\n",
              "    }\n",
              "</style>\n",
              "<table border=\"1\" class=\"dataframe\">\n",
              "  <thead>\n",
              "    <tr style=\"text-align: right;\">\n",
              "      <th></th>\n",
              "      <th>los</th>\n",
              "      <th>Age</th>\n",
              "      <th>number_diagnoses</th>\n",
              "      <th>num_lab_procedures</th>\n",
              "      <th>num_procedures</th>\n",
              "      <th>num_medications</th>\n",
              "      <th>number_emergency</th>\n",
              "      <th>number_inpatient</th>\n",
              "      <th>number_outpatient</th>\n",
              "      <th>sex_Female</th>\n",
              "      <th>...</th>\n",
              "      <th>admission_source_grouped_Other</th>\n",
              "      <th>admission_source_grouped_Physician Referral</th>\n",
              "      <th>admission_source_grouped_Transfer from SNF</th>\n",
              "      <th>admission_source_grouped_Transfer from another health care facility</th>\n",
              "      <th>admission_type_grouped_Elective</th>\n",
              "      <th>admission_type_grouped_Emergency</th>\n",
              "      <th>admission_type_grouped_Not Available/Null</th>\n",
              "      <th>admission_type_grouped_Trauma Centre</th>\n",
              "      <th>admission_type_grouped_Urgent</th>\n",
              "      <th>readmission</th>\n",
              "    </tr>\n",
              "  </thead>\n",
              "  <tbody>\n",
              "    <tr>\n",
              "      <th>0</th>\n",
              "      <td>2</td>\n",
              "      <td>79</td>\n",
              "      <td>9</td>\n",
              "      <td>38</td>\n",
              "      <td>0</td>\n",
              "      <td>12</td>\n",
              "      <td>0</td>\n",
              "      <td>0</td>\n",
              "      <td>0</td>\n",
              "      <td>1</td>\n",
              "      <td>...</td>\n",
              "      <td>0</td>\n",
              "      <td>0</td>\n",
              "      <td>0</td>\n",
              "      <td>0</td>\n",
              "      <td>1</td>\n",
              "      <td>0</td>\n",
              "      <td>0</td>\n",
              "      <td>0</td>\n",
              "      <td>0</td>\n",
              "      <td>no</td>\n",
              "    </tr>\n",
              "    <tr>\n",
              "      <th>1</th>\n",
              "      <td>5</td>\n",
              "      <td>59</td>\n",
              "      <td>8</td>\n",
              "      <td>49</td>\n",
              "      <td>0</td>\n",
              "      <td>16</td>\n",
              "      <td>0</td>\n",
              "      <td>0</td>\n",
              "      <td>0</td>\n",
              "      <td>0</td>\n",
              "      <td>...</td>\n",
              "      <td>0</td>\n",
              "      <td>0</td>\n",
              "      <td>0</td>\n",
              "      <td>0</td>\n",
              "      <td>1</td>\n",
              "      <td>0</td>\n",
              "      <td>0</td>\n",
              "      <td>0</td>\n",
              "      <td>0</td>\n",
              "      <td>no</td>\n",
              "    </tr>\n",
              "    <tr>\n",
              "      <th>2</th>\n",
              "      <td>2</td>\n",
              "      <td>33</td>\n",
              "      <td>5</td>\n",
              "      <td>62</td>\n",
              "      <td>0</td>\n",
              "      <td>15</td>\n",
              "      <td>1</td>\n",
              "      <td>0</td>\n",
              "      <td>1</td>\n",
              "      <td>1</td>\n",
              "      <td>...</td>\n",
              "      <td>0</td>\n",
              "      <td>0</td>\n",
              "      <td>0</td>\n",
              "      <td>0</td>\n",
              "      <td>1</td>\n",
              "      <td>0</td>\n",
              "      <td>0</td>\n",
              "      <td>0</td>\n",
              "      <td>0</td>\n",
              "      <td>no</td>\n",
              "    </tr>\n",
              "    <tr>\n",
              "      <th>3</th>\n",
              "      <td>6</td>\n",
              "      <td>42</td>\n",
              "      <td>9</td>\n",
              "      <td>77</td>\n",
              "      <td>0</td>\n",
              "      <td>30</td>\n",
              "      <td>0</td>\n",
              "      <td>0</td>\n",
              "      <td>0</td>\n",
              "      <td>1</td>\n",
              "      <td>...</td>\n",
              "      <td>0</td>\n",
              "      <td>0</td>\n",
              "      <td>0</td>\n",
              "      <td>0</td>\n",
              "      <td>1</td>\n",
              "      <td>0</td>\n",
              "      <td>0</td>\n",
              "      <td>0</td>\n",
              "      <td>0</td>\n",
              "      <td>no</td>\n",
              "    </tr>\n",
              "    <tr>\n",
              "      <th>4</th>\n",
              "      <td>1</td>\n",
              "      <td>62</td>\n",
              "      <td>7</td>\n",
              "      <td>13</td>\n",
              "      <td>5</td>\n",
              "      <td>6</td>\n",
              "      <td>0</td>\n",
              "      <td>0</td>\n",
              "      <td>0</td>\n",
              "      <td>0</td>\n",
              "      <td>...</td>\n",
              "      <td>0</td>\n",
              "      <td>0</td>\n",
              "      <td>0</td>\n",
              "      <td>0</td>\n",
              "      <td>1</td>\n",
              "      <td>0</td>\n",
              "      <td>0</td>\n",
              "      <td>0</td>\n",
              "      <td>0</td>\n",
              "      <td>no</td>\n",
              "    </tr>\n",
              "  </tbody>\n",
              "</table>\n",
              "<p>5 rows × 70 columns</p>\n",
              "</div>\n",
              "      <button class=\"colab-df-convert\" onclick=\"convertToInteractive('df-7ea0eb55-73ad-4981-95f4-e7c94584743b')\"\n",
              "              title=\"Convert this dataframe to an interactive table.\"\n",
              "              style=\"display:none;\">\n",
              "        \n",
              "  <svg xmlns=\"http://www.w3.org/2000/svg\" height=\"24px\"viewBox=\"0 0 24 24\"\n",
              "       width=\"24px\">\n",
              "    <path d=\"M0 0h24v24H0V0z\" fill=\"none\"/>\n",
              "    <path d=\"M18.56 5.44l.94 2.06.94-2.06 2.06-.94-2.06-.94-.94-2.06-.94 2.06-2.06.94zm-11 1L8.5 8.5l.94-2.06 2.06-.94-2.06-.94L8.5 2.5l-.94 2.06-2.06.94zm10 10l.94 2.06.94-2.06 2.06-.94-2.06-.94-.94-2.06-.94 2.06-2.06.94z\"/><path d=\"M17.41 7.96l-1.37-1.37c-.4-.4-.92-.59-1.43-.59-.52 0-1.04.2-1.43.59L10.3 9.45l-7.72 7.72c-.78.78-.78 2.05 0 2.83L4 21.41c.39.39.9.59 1.41.59.51 0 1.02-.2 1.41-.59l7.78-7.78 2.81-2.81c.8-.78.8-2.07 0-2.86zM5.41 20L4 18.59l7.72-7.72 1.47 1.35L5.41 20z\"/>\n",
              "  </svg>\n",
              "      </button>\n",
              "      \n",
              "  <style>\n",
              "    .colab-df-container {\n",
              "      display:flex;\n",
              "      flex-wrap:wrap;\n",
              "      gap: 12px;\n",
              "    }\n",
              "\n",
              "    .colab-df-convert {\n",
              "      background-color: #E8F0FE;\n",
              "      border: none;\n",
              "      border-radius: 50%;\n",
              "      cursor: pointer;\n",
              "      display: none;\n",
              "      fill: #1967D2;\n",
              "      height: 32px;\n",
              "      padding: 0 0 0 0;\n",
              "      width: 32px;\n",
              "    }\n",
              "\n",
              "    .colab-df-convert:hover {\n",
              "      background-color: #E2EBFA;\n",
              "      box-shadow: 0px 1px 2px rgba(60, 64, 67, 0.3), 0px 1px 3px 1px rgba(60, 64, 67, 0.15);\n",
              "      fill: #174EA6;\n",
              "    }\n",
              "\n",
              "    [theme=dark] .colab-df-convert {\n",
              "      background-color: #3B4455;\n",
              "      fill: #D2E3FC;\n",
              "    }\n",
              "\n",
              "    [theme=dark] .colab-df-convert:hover {\n",
              "      background-color: #434B5C;\n",
              "      box-shadow: 0px 1px 3px 1px rgba(0, 0, 0, 0.15);\n",
              "      filter: drop-shadow(0px 1px 2px rgba(0, 0, 0, 0.3));\n",
              "      fill: #FFFFFF;\n",
              "    }\n",
              "  </style>\n",
              "\n",
              "      <script>\n",
              "        const buttonEl =\n",
              "          document.querySelector('#df-7ea0eb55-73ad-4981-95f4-e7c94584743b button.colab-df-convert');\n",
              "        buttonEl.style.display =\n",
              "          google.colab.kernel.accessAllowed ? 'block' : 'none';\n",
              "\n",
              "        async function convertToInteractive(key) {\n",
              "          const element = document.querySelector('#df-7ea0eb55-73ad-4981-95f4-e7c94584743b');\n",
              "          const dataTable =\n",
              "            await google.colab.kernel.invokeFunction('convertToInteractive',\n",
              "                                                     [key], {});\n",
              "          if (!dataTable) return;\n",
              "\n",
              "          const docLinkHtml = 'Like what you see? Visit the ' +\n",
              "            '<a target=\"_blank\" href=https://colab.research.google.com/notebooks/data_table.ipynb>data table notebook</a>'\n",
              "            + ' to learn more about interactive tables.';\n",
              "          element.innerHTML = '';\n",
              "          dataTable['output_type'] = 'display_data';\n",
              "          await google.colab.output.renderOutput(dataTable, element);\n",
              "          const docLink = document.createElement('div');\n",
              "          docLink.innerHTML = docLinkHtml;\n",
              "          element.appendChild(docLink);\n",
              "        }\n",
              "      </script>\n",
              "    </div>\n",
              "  </div>\n",
              "  "
            ]
          },
          "metadata": {},
          "execution_count": 7
        }
      ],
      "source": [
        "import pickle\n",
        "from pathlib import Path\n",
        "\n",
        "# Load dataset with dummy variables and already cleaned in Exercise 1 of Chapter 2\n",
        "pickle_path = Path(root) / 'MyDrive' / 'HDAT9500' /'week02'/'hospital_data.pickle' \n",
        "\n",
        "with open(pickle_path, 'rb') as data:\n",
        "    hospital = pickle.load(data)\n",
        "    \n",
        "hospital.head()"
      ]
    },
    {
      "cell_type": "code",
      "execution_count": 8,
      "metadata": {
        "id": "qbHBrzdNV-QX",
        "outputId": "7e5307b5-e978-49a3-8c96-e13268e0f3dd",
        "colab": {
          "base_uri": "https://localhost:8080/"
        }
      },
      "outputs": [
        {
          "output_type": "execute_result",
          "data": {
            "text/plain": [
              "Index(['los', 'Age', 'number_diagnoses', 'num_lab_procedures',\n",
              "       'num_procedures', 'num_medications', 'number_emergency',\n",
              "       'number_inpatient', 'number_outpatient', 'sex_Female', 'sex_Male',\n",
              "       'max_glu_serum_>200', 'max_glu_serum_>300', 'max_glu_serum_None',\n",
              "       'max_glu_serum_Norm', 'A1Cresult_>7', 'A1Cresult_>8', 'A1Cresult_None',\n",
              "       'A1Cresult_Norm', 'group_name_1_Blood_&_immune', 'group_name_1_CNS',\n",
              "       'group_name_1_Cancer', 'group_name_1_Cardiac_&_circulatory',\n",
              "       'group_name_1_Digestive', 'group_name_1_Endocrine',\n",
              "       'group_name_1_Infectious', 'group_name_1_Mental_&_Substance',\n",
              "       'group_name_1_Other', 'group_name_1_Respiratory',\n",
              "       'group_name_2_Blood_&_immune', 'group_name_2_CNS',\n",
              "       'group_name_2_Cancer', 'group_name_2_Cardiac_&_circulatory',\n",
              "       'group_name_2_Digestive', 'group_name_2_Endocrine',\n",
              "       'group_name_2_Infectious', 'group_name_2_Mental_&_Substance',\n",
              "       'group_name_2_Other', 'group_name_2_Respiratory',\n",
              "       'group_name_3_Blood_&_immune', 'group_name_3_CNS',\n",
              "       'group_name_3_Cancer', 'group_name_3_Cardiac_&_circulatory',\n",
              "       'group_name_3_Digestive', 'group_name_3_Endocrine',\n",
              "       'group_name_3_Infectious', 'group_name_3_Mental_&_Substance',\n",
              "       'group_name_3_Other', 'group_name_3_Respiratory',\n",
              "       'discharge_disposition_grouped_Discharged to home',\n",
              "       'discharge_disposition_grouped_Home health service',\n",
              "       'discharge_disposition_grouped_Left AMA',\n",
              "       'discharge_disposition_grouped_Not available/Null',\n",
              "       'discharge_disposition_grouped_Other',\n",
              "       'discharge_disposition_grouped_Short term hospital',\n",
              "       'discharge_disposition_grouped_Transferred to ICF',\n",
              "       'discharge_disposition_grouped_Transferred to SNF',\n",
              "       'admission_source_grouped_Clinic Referral',\n",
              "       'admission_source_grouped_Emergency Room',\n",
              "       'admission_source_grouped_Not available/Null',\n",
              "       'admission_source_grouped_Other',\n",
              "       'admission_source_grouped_Physician Referral',\n",
              "       'admission_source_grouped_Transfer from SNF',\n",
              "       'admission_source_grouped_Transfer from another health care facility',\n",
              "       'admission_type_grouped_Elective', 'admission_type_grouped_Emergency',\n",
              "       'admission_type_grouped_Not Available/Null',\n",
              "       'admission_type_grouped_Trauma Centre', 'admission_type_grouped_Urgent',\n",
              "       'readmission'],\n",
              "      dtype='object')"
            ]
          },
          "metadata": {},
          "execution_count": 8
        }
      ],
      "source": [
        "hospital.columns"
      ]
    },
    {
      "cell_type": "markdown",
      "metadata": {
        "id": "qUUmA6FQV-QX"
      },
      "source": [
        "# 4. Scaling of the Features "
      ]
    },
    {
      "cell_type": "markdown",
      "metadata": {
        "id": "FO-Sla2uV-QX"
      },
      "source": [
        "In order to understand their relative magnitude, we are going to represent all features on the same scale . In particular, we are going to standardise our features. We can scale our features in many ways, and standardisation is just one of them. \n",
        "\n",
        "**In this first part of the exercise (section 3), we are going to just <font color=green>visualise</font> the standardised features, but we are not going to feed them into a model yet.** "
      ]
    },
    {
      "cell_type": "markdown",
      "metadata": {
        "id": "RAwsyK89V-QX"
      },
      "source": [
        "#### Splitting the feature variables from the response"
      ]
    },
    {
      "cell_type": "code",
      "execution_count": 9,
      "metadata": {
        "id": "eU2wdTpqV-QY"
      },
      "outputs": [],
      "source": [
        "# Dividing my dataset in X and y (outcome)\n",
        "X = hospital.drop(columns=['readmission'], axis=1)\n",
        "y = hospital['readmission']"
      ]
    },
    {
      "cell_type": "code",
      "execution_count": 10,
      "metadata": {
        "id": "5Aw5y69BV-QY",
        "outputId": "153025e4-a493-4189-9580-322f416b2030",
        "colab": {
          "base_uri": "https://localhost:8080/",
          "height": 335
        }
      },
      "outputs": [
        {
          "output_type": "display_data",
          "data": {
            "text/plain": [
              "   los  Age  number_diagnoses  num_lab_procedures  num_procedures  \\\n",
              "0    2   79                 9                  38               0   \n",
              "1    5   59                 8                  49               0   \n",
              "2    2   33                 5                  62               0   \n",
              "3    6   42                 9                  77               0   \n",
              "4    1   62                 7                  13               5   \n",
              "\n",
              "   num_medications  number_emergency  number_inpatient  number_outpatient  \\\n",
              "0               12                 0                 0                  0   \n",
              "1               16                 0                 0                  0   \n",
              "2               15                 1                 0                  1   \n",
              "3               30                 0                 0                  0   \n",
              "4                6                 0                 0                  0   \n",
              "\n",
              "   sex_Female  ...  admission_source_grouped_Not available/Null  \\\n",
              "0           1  ...                                            0   \n",
              "1           0  ...                                            0   \n",
              "2           1  ...                                            0   \n",
              "3           1  ...                                            0   \n",
              "4           0  ...                                            0   \n",
              "\n",
              "   admission_source_grouped_Other  \\\n",
              "0                               0   \n",
              "1                               0   \n",
              "2                               0   \n",
              "3                               0   \n",
              "4                               0   \n",
              "\n",
              "   admission_source_grouped_Physician Referral  \\\n",
              "0                                            0   \n",
              "1                                            0   \n",
              "2                                            0   \n",
              "3                                            0   \n",
              "4                                            0   \n",
              "\n",
              "   admission_source_grouped_Transfer from SNF  \\\n",
              "0                                           0   \n",
              "1                                           0   \n",
              "2                                           0   \n",
              "3                                           0   \n",
              "4                                           0   \n",
              "\n",
              "   admission_source_grouped_Transfer from another health care facility  \\\n",
              "0                                                  0                     \n",
              "1                                                  0                     \n",
              "2                                                  0                     \n",
              "3                                                  0                     \n",
              "4                                                  0                     \n",
              "\n",
              "   admission_type_grouped_Elective  admission_type_grouped_Emergency  \\\n",
              "0                                1                                 0   \n",
              "1                                1                                 0   \n",
              "2                                1                                 0   \n",
              "3                                1                                 0   \n",
              "4                                1                                 0   \n",
              "\n",
              "   admission_type_grouped_Not Available/Null  \\\n",
              "0                                          0   \n",
              "1                                          0   \n",
              "2                                          0   \n",
              "3                                          0   \n",
              "4                                          0   \n",
              "\n",
              "   admission_type_grouped_Trauma Centre  admission_type_grouped_Urgent  \n",
              "0                                     0                              0  \n",
              "1                                     0                              0  \n",
              "2                                     0                              0  \n",
              "3                                     0                              0  \n",
              "4                                     0                              0  \n",
              "\n",
              "[5 rows x 69 columns]"
            ],
            "text/html": [
              "\n",
              "  <div id=\"df-016644d4-fd98-46a9-b053-60fd6a196d58\">\n",
              "    <div class=\"colab-df-container\">\n",
              "      <div>\n",
              "<style scoped>\n",
              "    .dataframe tbody tr th:only-of-type {\n",
              "        vertical-align: middle;\n",
              "    }\n",
              "\n",
              "    .dataframe tbody tr th {\n",
              "        vertical-align: top;\n",
              "    }\n",
              "\n",
              "    .dataframe thead th {\n",
              "        text-align: right;\n",
              "    }\n",
              "</style>\n",
              "<table border=\"1\" class=\"dataframe\">\n",
              "  <thead>\n",
              "    <tr style=\"text-align: right;\">\n",
              "      <th></th>\n",
              "      <th>los</th>\n",
              "      <th>Age</th>\n",
              "      <th>number_diagnoses</th>\n",
              "      <th>num_lab_procedures</th>\n",
              "      <th>num_procedures</th>\n",
              "      <th>num_medications</th>\n",
              "      <th>number_emergency</th>\n",
              "      <th>number_inpatient</th>\n",
              "      <th>number_outpatient</th>\n",
              "      <th>sex_Female</th>\n",
              "      <th>...</th>\n",
              "      <th>admission_source_grouped_Not available/Null</th>\n",
              "      <th>admission_source_grouped_Other</th>\n",
              "      <th>admission_source_grouped_Physician Referral</th>\n",
              "      <th>admission_source_grouped_Transfer from SNF</th>\n",
              "      <th>admission_source_grouped_Transfer from another health care facility</th>\n",
              "      <th>admission_type_grouped_Elective</th>\n",
              "      <th>admission_type_grouped_Emergency</th>\n",
              "      <th>admission_type_grouped_Not Available/Null</th>\n",
              "      <th>admission_type_grouped_Trauma Centre</th>\n",
              "      <th>admission_type_grouped_Urgent</th>\n",
              "    </tr>\n",
              "  </thead>\n",
              "  <tbody>\n",
              "    <tr>\n",
              "      <th>0</th>\n",
              "      <td>2</td>\n",
              "      <td>79</td>\n",
              "      <td>9</td>\n",
              "      <td>38</td>\n",
              "      <td>0</td>\n",
              "      <td>12</td>\n",
              "      <td>0</td>\n",
              "      <td>0</td>\n",
              "      <td>0</td>\n",
              "      <td>1</td>\n",
              "      <td>...</td>\n",
              "      <td>0</td>\n",
              "      <td>0</td>\n",
              "      <td>0</td>\n",
              "      <td>0</td>\n",
              "      <td>0</td>\n",
              "      <td>1</td>\n",
              "      <td>0</td>\n",
              "      <td>0</td>\n",
              "      <td>0</td>\n",
              "      <td>0</td>\n",
              "    </tr>\n",
              "    <tr>\n",
              "      <th>1</th>\n",
              "      <td>5</td>\n",
              "      <td>59</td>\n",
              "      <td>8</td>\n",
              "      <td>49</td>\n",
              "      <td>0</td>\n",
              "      <td>16</td>\n",
              "      <td>0</td>\n",
              "      <td>0</td>\n",
              "      <td>0</td>\n",
              "      <td>0</td>\n",
              "      <td>...</td>\n",
              "      <td>0</td>\n",
              "      <td>0</td>\n",
              "      <td>0</td>\n",
              "      <td>0</td>\n",
              "      <td>0</td>\n",
              "      <td>1</td>\n",
              "      <td>0</td>\n",
              "      <td>0</td>\n",
              "      <td>0</td>\n",
              "      <td>0</td>\n",
              "    </tr>\n",
              "    <tr>\n",
              "      <th>2</th>\n",
              "      <td>2</td>\n",
              "      <td>33</td>\n",
              "      <td>5</td>\n",
              "      <td>62</td>\n",
              "      <td>0</td>\n",
              "      <td>15</td>\n",
              "      <td>1</td>\n",
              "      <td>0</td>\n",
              "      <td>1</td>\n",
              "      <td>1</td>\n",
              "      <td>...</td>\n",
              "      <td>0</td>\n",
              "      <td>0</td>\n",
              "      <td>0</td>\n",
              "      <td>0</td>\n",
              "      <td>0</td>\n",
              "      <td>1</td>\n",
              "      <td>0</td>\n",
              "      <td>0</td>\n",
              "      <td>0</td>\n",
              "      <td>0</td>\n",
              "    </tr>\n",
              "    <tr>\n",
              "      <th>3</th>\n",
              "      <td>6</td>\n",
              "      <td>42</td>\n",
              "      <td>9</td>\n",
              "      <td>77</td>\n",
              "      <td>0</td>\n",
              "      <td>30</td>\n",
              "      <td>0</td>\n",
              "      <td>0</td>\n",
              "      <td>0</td>\n",
              "      <td>1</td>\n",
              "      <td>...</td>\n",
              "      <td>0</td>\n",
              "      <td>0</td>\n",
              "      <td>0</td>\n",
              "      <td>0</td>\n",
              "      <td>0</td>\n",
              "      <td>1</td>\n",
              "      <td>0</td>\n",
              "      <td>0</td>\n",
              "      <td>0</td>\n",
              "      <td>0</td>\n",
              "    </tr>\n",
              "    <tr>\n",
              "      <th>4</th>\n",
              "      <td>1</td>\n",
              "      <td>62</td>\n",
              "      <td>7</td>\n",
              "      <td>13</td>\n",
              "      <td>5</td>\n",
              "      <td>6</td>\n",
              "      <td>0</td>\n",
              "      <td>0</td>\n",
              "      <td>0</td>\n",
              "      <td>0</td>\n",
              "      <td>...</td>\n",
              "      <td>0</td>\n",
              "      <td>0</td>\n",
              "      <td>0</td>\n",
              "      <td>0</td>\n",
              "      <td>0</td>\n",
              "      <td>1</td>\n",
              "      <td>0</td>\n",
              "      <td>0</td>\n",
              "      <td>0</td>\n",
              "      <td>0</td>\n",
              "    </tr>\n",
              "  </tbody>\n",
              "</table>\n",
              "<p>5 rows × 69 columns</p>\n",
              "</div>\n",
              "      <button class=\"colab-df-convert\" onclick=\"convertToInteractive('df-016644d4-fd98-46a9-b053-60fd6a196d58')\"\n",
              "              title=\"Convert this dataframe to an interactive table.\"\n",
              "              style=\"display:none;\">\n",
              "        \n",
              "  <svg xmlns=\"http://www.w3.org/2000/svg\" height=\"24px\"viewBox=\"0 0 24 24\"\n",
              "       width=\"24px\">\n",
              "    <path d=\"M0 0h24v24H0V0z\" fill=\"none\"/>\n",
              "    <path d=\"M18.56 5.44l.94 2.06.94-2.06 2.06-.94-2.06-.94-.94-2.06-.94 2.06-2.06.94zm-11 1L8.5 8.5l.94-2.06 2.06-.94-2.06-.94L8.5 2.5l-.94 2.06-2.06.94zm10 10l.94 2.06.94-2.06 2.06-.94-2.06-.94-.94-2.06-.94 2.06-2.06.94z\"/><path d=\"M17.41 7.96l-1.37-1.37c-.4-.4-.92-.59-1.43-.59-.52 0-1.04.2-1.43.59L10.3 9.45l-7.72 7.72c-.78.78-.78 2.05 0 2.83L4 21.41c.39.39.9.59 1.41.59.51 0 1.02-.2 1.41-.59l7.78-7.78 2.81-2.81c.8-.78.8-2.07 0-2.86zM5.41 20L4 18.59l7.72-7.72 1.47 1.35L5.41 20z\"/>\n",
              "  </svg>\n",
              "      </button>\n",
              "      \n",
              "  <style>\n",
              "    .colab-df-container {\n",
              "      display:flex;\n",
              "      flex-wrap:wrap;\n",
              "      gap: 12px;\n",
              "    }\n",
              "\n",
              "    .colab-df-convert {\n",
              "      background-color: #E8F0FE;\n",
              "      border: none;\n",
              "      border-radius: 50%;\n",
              "      cursor: pointer;\n",
              "      display: none;\n",
              "      fill: #1967D2;\n",
              "      height: 32px;\n",
              "      padding: 0 0 0 0;\n",
              "      width: 32px;\n",
              "    }\n",
              "\n",
              "    .colab-df-convert:hover {\n",
              "      background-color: #E2EBFA;\n",
              "      box-shadow: 0px 1px 2px rgba(60, 64, 67, 0.3), 0px 1px 3px 1px rgba(60, 64, 67, 0.15);\n",
              "      fill: #174EA6;\n",
              "    }\n",
              "\n",
              "    [theme=dark] .colab-df-convert {\n",
              "      background-color: #3B4455;\n",
              "      fill: #D2E3FC;\n",
              "    }\n",
              "\n",
              "    [theme=dark] .colab-df-convert:hover {\n",
              "      background-color: #434B5C;\n",
              "      box-shadow: 0px 1px 3px 1px rgba(0, 0, 0, 0.15);\n",
              "      filter: drop-shadow(0px 1px 2px rgba(0, 0, 0, 0.3));\n",
              "      fill: #FFFFFF;\n",
              "    }\n",
              "  </style>\n",
              "\n",
              "      <script>\n",
              "        const buttonEl =\n",
              "          document.querySelector('#df-016644d4-fd98-46a9-b053-60fd6a196d58 button.colab-df-convert');\n",
              "        buttonEl.style.display =\n",
              "          google.colab.kernel.accessAllowed ? 'block' : 'none';\n",
              "\n",
              "        async function convertToInteractive(key) {\n",
              "          const element = document.querySelector('#df-016644d4-fd98-46a9-b053-60fd6a196d58');\n",
              "          const dataTable =\n",
              "            await google.colab.kernel.invokeFunction('convertToInteractive',\n",
              "                                                     [key], {});\n",
              "          if (!dataTable) return;\n",
              "\n",
              "          const docLinkHtml = 'Like what you see? Visit the ' +\n",
              "            '<a target=\"_blank\" href=https://colab.research.google.com/notebooks/data_table.ipynb>data table notebook</a>'\n",
              "            + ' to learn more about interactive tables.';\n",
              "          element.innerHTML = '';\n",
              "          dataTable['output_type'] = 'display_data';\n",
              "          await google.colab.output.renderOutput(dataTable, element);\n",
              "          const docLink = document.createElement('div');\n",
              "          docLink.innerHTML = docLinkHtml;\n",
              "          element.appendChild(docLink);\n",
              "        }\n",
              "      </script>\n",
              "    </div>\n",
              "  </div>\n",
              "  "
            ]
          },
          "metadata": {}
        },
        {
          "output_type": "execute_result",
          "data": {
            "text/plain": [
              "(69267, 69)"
            ]
          },
          "metadata": {},
          "execution_count": 10
        }
      ],
      "source": [
        "# Sanity check\n",
        "display(X[:5])\n",
        "X.shape"
      ]
    },
    {
      "cell_type": "code",
      "execution_count": 11,
      "metadata": {
        "id": "2C1bWtOZV-QY",
        "outputId": "f3cc85c9-e0d8-4f68-c586-44efa57d41df",
        "colab": {
          "base_uri": "https://localhost:8080/",
          "height": 142
        }
      },
      "outputs": [
        {
          "output_type": "display_data",
          "data": {
            "text/plain": [
              "0    no\n",
              "1    no\n",
              "2    no\n",
              "3    no\n",
              "4    no\n",
              "Name: readmission, dtype: object"
            ]
          },
          "metadata": {}
        },
        {
          "output_type": "execute_result",
          "data": {
            "text/plain": [
              "(69267,)"
            ]
          },
          "metadata": {},
          "execution_count": 11
        }
      ],
      "source": [
        "# Sanity check\n",
        "display(y[:5])\n",
        "y.shape"
      ]
    },
    {
      "cell_type": "markdown",
      "metadata": {
        "id": "CkkCcHvwV-QY"
      },
      "source": [
        "#### Visualising the first ten features"
      ]
    },
    {
      "cell_type": "code",
      "execution_count": 12,
      "metadata": {
        "id": "O3GGG9XyV-QZ",
        "outputId": "ac52011e-9cef-452e-be77-f8c1f332b311",
        "colab": {
          "base_uri": "https://localhost:8080/",
          "height": 735
        }
      },
      "outputs": [
        {
          "output_type": "execute_result",
          "data": {
            "text/plain": [
              "(array([0, 1, 2, 3, 4, 5, 6, 7, 8]),\n",
              " <a list of 9 Text major ticklabel objects>)"
            ]
          },
          "metadata": {},
          "execution_count": 12
        },
        {
          "output_type": "display_data",
          "data": {
            "text/plain": [
              "<Figure size 720x720 with 1 Axes>"
            ],
            "image/png": "[encoded data removed]"
          },
          "metadata": {
            "needs_background": "light"
          }
        }
      ],
      "source": [
        "# visualising first ten features\n",
        "import matplotlib.pyplot as plt\n",
        "import seaborn as sns\n",
        "\n",
        "data = pd.concat([y,X.iloc[:, 0:9]],axis=1)\n",
        "data = pd.melt(data,id_vars=\"readmission\", var_name=\"features\", value_name='value')\n",
        "plt.figure(figsize=(10,10))\n",
        "sns.violinplot(x=\"features\", y=\"value\", hue=\"readmission\", data=data,split=True, inner=\"quart\")\n",
        "plt.xticks(rotation=90)"
      ]
    },
    {
      "cell_type": "markdown",
      "metadata": {
        "id": "hXu_qwiKV-QZ"
      },
      "source": [
        "As we can see, all these features vary in magnitudes. What could we do?  \n",
        "\n",
        "**Scaling the features** ([More information](https://medium.com/greyatom/why-how-and-when-to-scale-your-features-4b30ab09db5e))\n",
        "\n",
        "Your dataset will often contain features that vary in magnitudes, units and ranges. This may be a problem if, for example, our machine learning algorithm uses Eucledian distance between two data points in their computations for the loss function (MSE in the case of linear regression). \n",
        "\n",
        "\n",
        "**Let's visualise these first 10 features after scaling them.**"
      ]
    },
    {
      "cell_type": "markdown",
      "metadata": {
        "id": "hKnwxZXIV-QZ"
      },
      "source": [
        "Standardise features by removing the mean and scaling to unit variance:\n",
        "\n",
        "\n",
        "The standard score of a sample x is calculated as:\n",
        "\n",
        "\\begin{align*}\n",
        "z = (x - \\mu) / s\n",
        "\\end{align*}\n",
        "\n",
        "where $\\mu$ is the mean of the training samples, and s is the standard deviation of the training samples.\n",
        "\n",
        "[Read `StandardScaler`](https://scikit-learn.org/stable/modules/generated/sklearn.preprocessing.StandardScaler.html)"
      ]
    },
    {
      "cell_type": "code",
      "execution_count": 13,
      "metadata": {
        "id": "rNS4CEr0V-QZ"
      },
      "outputs": [],
      "source": [
        "from sklearn.preprocessing import StandardScaler\n",
        "\n",
        "scaler = StandardScaler()"
      ]
    },
    {
      "cell_type": "markdown",
      "metadata": {
        "id": "sCYHbwVLV-QZ"
      },
      "source": [
        "<font color=green> Remember that when we apply the `StandardScaler()`, we have to calculate the mean ($\\mu$) and standard deviation (s) of the training set only using `scaler.fit(X)`. Once those values are calculated, we standardise the training and test sets separately using the  mean and standard deviation of the training set.   </font>\n",
        "    \n",
        "<font color=green>  This first part of the exercise is just for visual purposes, so we are going to standardise the whole data.</font>"
      ]
    },
    {
      "cell_type": "code",
      "execution_count": 14,
      "metadata": {
        "id": "4R-B2B1UV-Qa"
      },
      "outputs": [],
      "source": [
        "# rescale the training data, or the whole data in this case. Just for visual purposes\n",
        "scaler.fit(X)\n",
        "X_scaled_temp = scaler.transform(X)"
      ]
    },
    {
      "cell_type": "code",
      "execution_count": 15,
      "metadata": {
        "id": "DNI3CFJNV-Qa"
      },
      "outputs": [],
      "source": [
        "# create DataFrame from X_scaled_temp array that contains the column names of the original dataset\n",
        "X_scaled=pd.DataFrame(X_scaled_temp, columns = list(X.columns.values))"
      ]
    },
    {
      "cell_type": "code",
      "execution_count": 16,
      "metadata": {
        "id": "Y_uTR1T3V-Qa",
        "outputId": "dbde484e-67a5-446c-890e-93497cb95f8c",
        "colab": {
          "base_uri": "https://localhost:8080/",
          "height": 317
        }
      },
      "outputs": [
        {
          "output_type": "execute_result",
          "data": {
            "text/plain": [
              "        los       Age  number_diagnoses  num_lab_procedures  num_procedures  \\\n",
              "0 -0.792994  0.725668          0.592962           -0.256544       -0.867039   \n",
              "1 -0.220492 -0.512782          0.163160            0.295520       -0.867039   \n",
              "2 -0.792994 -2.122768         -1.126244            0.947960       -0.867039   \n",
              "3 -0.029658 -1.565465          0.592962            1.700775       -0.867039   \n",
              "4 -0.983828 -0.327015         -0.266641           -1.511236        1.811693   \n",
              "\n",
              "   num_medications  number_emergency  number_inpatient  number_outpatient  \\\n",
              "0        -0.485002         -0.320163         -0.340009          -0.383211   \n",
              "1        -0.007517         -0.320163         -0.340009          -0.383211   \n",
              "2        -0.126888          0.811302         -0.340009           0.111328   \n",
              "3         1.663680         -0.320163         -0.340009          -0.383211   \n",
              "4        -1.201229         -0.320163         -0.340009          -0.383211   \n",
              "\n",
              "   sex_Female  ...  admission_source_grouped_Not available/Null  \\\n",
              "0    0.938169  ...                                    -0.265496   \n",
              "1   -1.065906  ...                                    -0.265496   \n",
              "2    0.938169  ...                                    -0.265496   \n",
              "3    0.938169  ...                                    -0.265496   \n",
              "4   -1.065906  ...                                    -0.265496   \n",
              "\n",
              "   admission_source_grouped_Other  \\\n",
              "0                       -0.037832   \n",
              "1                       -0.037832   \n",
              "2                       -0.037832   \n",
              "3                       -0.037832   \n",
              "4                       -0.037832   \n",
              "\n",
              "   admission_source_grouped_Physician Referral  \\\n",
              "0                                    -0.544165   \n",
              "1                                    -0.544165   \n",
              "2                                    -0.544165   \n",
              "3                                    -0.544165   \n",
              "4                                    -0.544165   \n",
              "\n",
              "   admission_source_grouped_Transfer from SNF  \\\n",
              "0                                   -0.072179   \n",
              "1                                   -0.072179   \n",
              "2                                   -0.072179   \n",
              "3                                   -0.072179   \n",
              "4                                   -0.072179   \n",
              "\n",
              "   admission_source_grouped_Transfer from another health care facility  \\\n",
              "0                                          -0.220981                     \n",
              "1                                          -0.220981                     \n",
              "2                                          -0.220981                     \n",
              "3                                          -0.220981                     \n",
              "4                                          -0.220981                     \n",
              "\n",
              "   admission_type_grouped_Elective  admission_type_grouped_Emergency  \\\n",
              "0                         1.361709                         -0.773568   \n",
              "1                         1.361709                         -0.773568   \n",
              "2                         1.361709                         -0.773568   \n",
              "3                         1.361709                         -0.773568   \n",
              "4                         1.361709                         -0.773568   \n",
              "\n",
              "   admission_type_grouped_Not Available/Null  \\\n",
              "0                                  -0.342727   \n",
              "1                                  -0.342727   \n",
              "2                                  -0.342727   \n",
              "3                                  -0.342727   \n",
              "4                                  -0.342727   \n",
              "\n",
              "   admission_type_grouped_Trauma Centre  admission_type_grouped_Urgent  \n",
              "0                             -0.015668                      -0.452422  \n",
              "1                             -0.015668                      -0.452422  \n",
              "2                             -0.015668                      -0.452422  \n",
              "3                             -0.015668                      -0.452422  \n",
              "4                             -0.015668                      -0.452422  \n",
              "\n",
              "[5 rows x 69 columns]"
            ],
            "text/html": [
              "\n",
              "  <div id=\"df-0bdd3826-659f-45aa-8a88-45895f557b83\">\n",
              "    <div class=\"colab-df-container\">\n",
              "      <div>\n",
              "<style scoped>\n",
              "    .dataframe tbody tr th:only-of-type {\n",
              "        vertical-align: middle;\n",
              "    }\n",
              "\n",
              "    .dataframe tbody tr th {\n",
              "        vertical-align: top;\n",
              "    }\n",
              "\n",
              "    .dataframe thead th {\n",
              "        text-align: right;\n",
              "    }\n",
              "</style>\n",
              "<table border=\"1\" class=\"dataframe\">\n",
              "  <thead>\n",
              "    <tr style=\"text-align: right;\">\n",
              "      <th></th>\n",
              "      <th>los</th>\n",
              "      <th>Age</th>\n",
              "      <th>number_diagnoses</th>\n",
              "      <th>num_lab_procedures</th>\n",
              "      <th>num_procedures</th>\n",
              "      <th>num_medications</th>\n",
              "      <th>number_emergency</th>\n",
              "      <th>number_inpatient</th>\n",
              "      <th>number_outpatient</th>\n",
              "      <th>sex_Female</th>\n",
              "      <th>...</th>\n",
              "      <th>admission_source_grouped_Not available/Null</th>\n",
              "      <th>admission_source_grouped_Other</th>\n",
              "      <th>admission_source_grouped_Physician Referral</th>\n",
              "      <th>admission_source_grouped_Transfer from SNF</th>\n",
              "      <th>admission_source_grouped_Transfer from another health care facility</th>\n",
              "      <th>admission_type_grouped_Elective</th>\n",
              "      <th>admission_type_grouped_Emergency</th>\n",
              "      <th>admission_type_grouped_Not Available/Null</th>\n",
              "      <th>admission_type_grouped_Trauma Centre</th>\n",
              "      <th>admission_type_grouped_Urgent</th>\n",
              "    </tr>\n",
              "  </thead>\n",
              "  <tbody>\n",
              "    <tr>\n",
              "      <th>0</th>\n",
              "      <td>-0.792994</td>\n",
              "      <td>0.725668</td>\n",
              "      <td>0.592962</td>\n",
              "      <td>-0.256544</td>\n",
              "      <td>-0.867039</td>\n",
              "      <td>-0.485002</td>\n",
              "      <td>-0.320163</td>\n",
              "      <td>-0.340009</td>\n",
              "      <td>-0.383211</td>\n",
              "      <td>0.938169</td>\n",
              "      <td>...</td>\n",
              "      <td>-0.265496</td>\n",
              "      <td>-0.037832</td>\n",
              "      <td>-0.544165</td>\n",
              "      <td>-0.072179</td>\n",
              "      <td>-0.220981</td>\n",
              "      <td>1.361709</td>\n",
              "      <td>-0.773568</td>\n",
              "      <td>-0.342727</td>\n",
              "      <td>-0.015668</td>\n",
              "      <td>-0.452422</td>\n",
              "    </tr>\n",
              "    <tr>\n",
              "      <th>1</th>\n",
              "      <td>-0.220492</td>\n",
              "      <td>-0.512782</td>\n",
              "      <td>0.163160</td>\n",
              "      <td>0.295520</td>\n",
              "      <td>-0.867039</td>\n",
              "      <td>-0.007517</td>\n",
              "      <td>-0.320163</td>\n",
              "      <td>-0.340009</td>\n",
              "      <td>-0.383211</td>\n",
              "      <td>-1.065906</td>\n",
              "      <td>...</td>\n",
              "      <td>-0.265496</td>\n",
              "      <td>-0.037832</td>\n",
              "      <td>-0.544165</td>\n",
              "      <td>-0.072179</td>\n",
              "      <td>-0.220981</td>\n",
              "      <td>1.361709</td>\n",
              "      <td>-0.773568</td>\n",
              "      <td>-0.342727</td>\n",
              "      <td>-0.015668</td>\n",
              "      <td>-0.452422</td>\n",
              "    </tr>\n",
              "    <tr>\n",
              "      <th>2</th>\n",
              "      <td>-0.792994</td>\n",
              "      <td>-2.122768</td>\n",
              "      <td>-1.126244</td>\n",
              "      <td>0.947960</td>\n",
              "      <td>-0.867039</td>\n",
              "      <td>-0.126888</td>\n",
              "      <td>0.811302</td>\n",
              "      <td>-0.340009</td>\n",
              "      <td>0.111328</td>\n",
              "      <td>0.938169</td>\n",
              "      <td>...</td>\n",
              "      <td>-0.265496</td>\n",
              "      <td>-0.037832</td>\n",
              "      <td>-0.544165</td>\n",
              "      <td>-0.072179</td>\n",
              "      <td>-0.220981</td>\n",
              "      <td>1.361709</td>\n",
              "      <td>-0.773568</td>\n",
              "      <td>-0.342727</td>\n",
              "      <td>-0.015668</td>\n",
              "      <td>-0.452422</td>\n",
              "    </tr>\n",
              "    <tr>\n",
              "      <th>3</th>\n",
              "      <td>-0.029658</td>\n",
              "      <td>-1.565465</td>\n",
              "      <td>0.592962</td>\n",
              "      <td>1.700775</td>\n",
              "      <td>-0.867039</td>\n",
              "      <td>1.663680</td>\n",
              "      <td>-0.320163</td>\n",
              "      <td>-0.340009</td>\n",
              "      <td>-0.383211</td>\n",
              "      <td>0.938169</td>\n",
              "      <td>...</td>\n",
              "      <td>-0.265496</td>\n",
              "      <td>-0.037832</td>\n",
              "      <td>-0.544165</td>\n",
              "      <td>-0.072179</td>\n",
              "      <td>-0.220981</td>\n",
              "      <td>1.361709</td>\n",
              "      <td>-0.773568</td>\n",
              "      <td>-0.342727</td>\n",
              "      <td>-0.015668</td>\n",
              "      <td>-0.452422</td>\n",
              "    </tr>\n",
              "    <tr>\n",
              "      <th>4</th>\n",
              "      <td>-0.983828</td>\n",
              "      <td>-0.327015</td>\n",
              "      <td>-0.266641</td>\n",
              "      <td>-1.511236</td>\n",
              "      <td>1.811693</td>\n",
              "      <td>-1.201229</td>\n",
              "      <td>-0.320163</td>\n",
              "      <td>-0.340009</td>\n",
              "      <td>-0.383211</td>\n",
              "      <td>-1.065906</td>\n",
              "      <td>...</td>\n",
              "      <td>-0.265496</td>\n",
              "      <td>-0.037832</td>\n",
              "      <td>-0.544165</td>\n",
              "      <td>-0.072179</td>\n",
              "      <td>-0.220981</td>\n",
              "      <td>1.361709</td>\n",
              "      <td>-0.773568</td>\n",
              "      <td>-0.342727</td>\n",
              "      <td>-0.015668</td>\n",
              "      <td>-0.452422</td>\n",
              "    </tr>\n",
              "  </tbody>\n",
              "</table>\n",
              "<p>5 rows × 69 columns</p>\n",
              "</div>\n",
              "      <button class=\"colab-df-convert\" onclick=\"convertToInteractive('df-0bdd3826-659f-45aa-8a88-45895f557b83')\"\n",
              "              title=\"Convert this dataframe to an interactive table.\"\n",
              "              style=\"display:none;\">\n",
              "        \n",
              "  <svg xmlns=\"http://www.w3.org/2000/svg\" height=\"24px\"viewBox=\"0 0 24 24\"\n",
              "       width=\"24px\">\n",
              "    <path d=\"M0 0h24v24H0V0z\" fill=\"none\"/>\n",
              "    <path d=\"M18.56 5.44l.94 2.06.94-2.06 2.06-.94-2.06-.94-.94-2.06-.94 2.06-2.06.94zm-11 1L8.5 8.5l.94-2.06 2.06-.94-2.06-.94L8.5 2.5l-.94 2.06-2.06.94zm10 10l.94 2.06.94-2.06 2.06-.94-2.06-.94-.94-2.06-.94 2.06-2.06.94z\"/><path d=\"M17.41 7.96l-1.37-1.37c-.4-.4-.92-.59-1.43-.59-.52 0-1.04.2-1.43.59L10.3 9.45l-7.72 7.72c-.78.78-.78 2.05 0 2.83L4 21.41c.39.39.9.59 1.41.59.51 0 1.02-.2 1.41-.59l7.78-7.78 2.81-2.81c.8-.78.8-2.07 0-2.86zM5.41 20L4 18.59l7.72-7.72 1.47 1.35L5.41 20z\"/>\n",
              "  </svg>\n",
              "      </button>\n",
              "      \n",
              "  <style>\n",
              "    .colab-df-container {\n",
              "      display:flex;\n",
              "      flex-wrap:wrap;\n",
              "      gap: 12px;\n",
              "    }\n",
              "\n",
              "    .colab-df-convert {\n",
              "      background-color: #E8F0FE;\n",
              "      border: none;\n",
              "      border-radius: 50%;\n",
              "      cursor: pointer;\n",
              "      display: none;\n",
              "      fill: #1967D2;\n",
              "      height: 32px;\n",
              "      padding: 0 0 0 0;\n",
              "      width: 32px;\n",
              "    }\n",
              "\n",
              "    .colab-df-convert:hover {\n",
              "      background-color: #E2EBFA;\n",
              "      box-shadow: 0px 1px 2px rgba(60, 64, 67, 0.3), 0px 1px 3px 1px rgba(60, 64, 67, 0.15);\n",
              "      fill: #174EA6;\n",
              "    }\n",
              "\n",
              "    [theme=dark] .colab-df-convert {\n",
              "      background-color: #3B4455;\n",
              "      fill: #D2E3FC;\n",
              "    }\n",
              "\n",
              "    [theme=dark] .colab-df-convert:hover {\n",
              "      background-color: #434B5C;\n",
              "      box-shadow: 0px 1px 3px 1px rgba(0, 0, 0, 0.15);\n",
              "      filter: drop-shadow(0px 1px 2px rgba(0, 0, 0, 0.3));\n",
              "      fill: #FFFFFF;\n",
              "    }\n",
              "  </style>\n",
              "\n",
              "      <script>\n",
              "        const buttonEl =\n",
              "          document.querySelector('#df-0bdd3826-659f-45aa-8a88-45895f557b83 button.colab-df-convert');\n",
              "        buttonEl.style.display =\n",
              "          google.colab.kernel.accessAllowed ? 'block' : 'none';\n",
              "\n",
              "        async function convertToInteractive(key) {\n",
              "          const element = document.querySelector('#df-0bdd3826-659f-45aa-8a88-45895f557b83');\n",
              "          const dataTable =\n",
              "            await google.colab.kernel.invokeFunction('convertToInteractive',\n",
              "                                                     [key], {});\n",
              "          if (!dataTable) return;\n",
              "\n",
              "          const docLinkHtml = 'Like what you see? Visit the ' +\n",
              "            '<a target=\"_blank\" href=https://colab.research.google.com/notebooks/data_table.ipynb>data table notebook</a>'\n",
              "            + ' to learn more about interactive tables.';\n",
              "          element.innerHTML = '';\n",
              "          dataTable['output_type'] = 'display_data';\n",
              "          await google.colab.output.renderOutput(dataTable, element);\n",
              "          const docLink = document.createElement('div');\n",
              "          docLink.innerHTML = docLinkHtml;\n",
              "          element.appendChild(docLink);\n",
              "        }\n",
              "      </script>\n",
              "    </div>\n",
              "  </div>\n",
              "  "
            ]
          },
          "metadata": {},
          "execution_count": 16
        }
      ],
      "source": [
        "# Sanity check\n",
        "X_scaled[:5]"
      ]
    },
    {
      "cell_type": "code",
      "execution_count": 17,
      "metadata": {
        "id": "1KxjXW38V-Qa",
        "outputId": "8f443759-b65c-44c0-e73c-7d23c100b1f2",
        "colab": {
          "base_uri": "https://localhost:8080/",
          "height": 735
        }
      },
      "outputs": [
        {
          "output_type": "execute_result",
          "data": {
            "text/plain": [
              "(array([0, 1, 2, 3, 4, 5, 6, 7, 8]),\n",
              " <a list of 9 Text major ticklabel objects>)"
            ]
          },
          "metadata": {},
          "execution_count": 17
        },
        {
          "output_type": "display_data",
          "data": {
            "text/plain": [
              "<Figure size 720x720 with 1 Axes>"
            ],
            "image/png": "[encoded data removed]"
          },
          "metadata": {
            "needs_background": "light"
          }
        }
      ],
      "source": [
        "# visualising first ten features of our X_scaled dataset\n",
        "data = pd.concat([y,X_scaled.iloc[:, 0:9]],axis=1)\n",
        "data = pd.melt(data,id_vars=\"readmission\", var_name=\"features\", value_name='value')\n",
        "plt.figure(figsize=(10,10))\n",
        "sns.violinplot(x=\"features\", y=\"value\", hue=\"readmission\", data=data,split=True, inner=\"quart\")\n",
        "plt.xticks(rotation=90)"
      ]
    },
    {
      "cell_type": "markdown",
      "metadata": {
        "id": "npCPZZhrV-Qa"
      },
      "source": [
        "As you can see, all the features are at the same scale now and it will be easier for the ML algorithm to fit a model to predict the correct outcome."
      ]
    },
    {
      "cell_type": "markdown",
      "metadata": {
        "id": "DyGN8mxGV-Qa"
      },
      "source": [
        "Nevertheless, the outliers do not allow us to see the features in detail. Let's zoom in by plotting only values smaller than a certain threshold. Feel free to change this threshold.\n",
        "See [seaborn documentation](https://seaborn.pydata.org/generated/seaborn.violinplot.html) for more information."
      ]
    },
    {
      "cell_type": "code",
      "execution_count": 18,
      "metadata": {
        "id": "6bZlibWrV-Qa"
      },
      "outputs": [],
      "source": [
        "zoom_threshold=3"
      ]
    },
    {
      "cell_type": "code",
      "execution_count": 19,
      "metadata": {
        "id": "IZBMoXhhV-Qa",
        "outputId": "858493cb-5c58-4ffb-a43c-d86dd38ecf79",
        "colab": {
          "base_uri": "https://localhost:8080/",
          "height": 735
        }
      },
      "outputs": [
        {
          "output_type": "execute_result",
          "data": {
            "text/plain": [
              "(array([0, 1, 2, 3, 4, 5, 6, 7, 8]),\n",
              " <a list of 9 Text major ticklabel objects>)"
            ]
          },
          "metadata": {},
          "execution_count": 19
        },
        {
          "output_type": "display_data",
          "data": {
            "text/plain": [
              "<Figure size 720x720 with 1 Axes>"
            ],
            "image/png": "[encoded data removed]"
          },
          "metadata": {
            "needs_background": "light"
          }
        }
      ],
      "source": [
        "# visualising first ten features of our X_scaled dataset\n",
        "data = pd.concat([y,X_scaled.iloc[:, 0:9]],axis=1)\n",
        "data = pd.melt(data,id_vars=\"readmission\", var_name=\"features\", value_name='value')\n",
        "plt.figure(figsize=(10,10))\n",
        "sns.violinplot(x=\"features\", y=\"value\", hue=\"readmission\", data=data[data.value<zoom_threshold],split=True, inner=\"quart\")\n",
        "plt.xticks(rotation=90)"
      ]
    },
    {
      "cell_type": "markdown",
      "metadata": {
        "id": "m9ZhyHUmV-Qb"
      },
      "source": [
        "# 5. Cross-Validation for evaluation of our ML model\n",
        "Up to now, we have only used the training-test approach to <b>evaluate our models</b>. As you are aware, the training-test approach involves **randomly** partitioning the data into two sets, one for training and one for testing (e.g. 80/20 partition in a random way). The advantage of the training-test approach is that it is simple to understand and implement. However, estimates of test error can be highly variable, with dependence on which records are randomly selected for training and testing.\n",
        "\n",
        "\n",
        "Here, we will introduce another related **method of model performance evaluation** known as \"k-fold cross-validation\". In k-fold cross-validation, the original sample is randomly partitioned into k equal size subsamples, called **folds**. Of the k folds, a single fold is designated as the test set, and the remaining k-1 folds are used as training data. Now, here is where the method differs from the training-test approach. Previously, we would train a single model on a \"training fold\", evaluate on the \"test fold\", and then finish. Instead, now we train k models, each with a different test fold, and then average the performance to yield our final accuracy. It is common to choose k as either 5 or 10.<p>\n",
        "    \n",
        "To illustrate, consider the case of 5-fold cross-validation. Here, we split the data into 5 equally sized folds. Let's call them fold_1, fold_2, fold_3, fold_4, and fold_5. Then, choose one of the folds as the first test fold, and the remaining 4 folds are the training folds. Let's say we choose fold_1 for the first test fold, so we have fold_2, fold_3, fold_4, and fold_5 for training. Now, train and evaluate the first model using these folds. Let's call this model and its results model_1.\n",
        "\n",
        "<p> Now, we swap the test fold of fold_1 with a training fold that has not previously been used for testing. Let's say we swap fold_1 with fold_2. This means we have fold_2 as our new test fold, and we have fold_1, fold_3, fold_4, and fold_5 for training. Now, train and evaluate the second model and call it model_2.<p>\n",
        "\n",
        "Repeat this process until we have used all 5 of our folds for testing exactly once. We would now have 5 models and their associated performance evaluation results (either F1 score, accuracy,...), model_1, model_2, model_3, model_4, and model_5. We then average these results. \n",
        "    \n",
        "I would like you to remember that:\n",
        "    \n",
        "1. Cross-validation is just a method to better estimate the performance of a model.\n",
        "2. Cross-validation can be used either:\n",
        "\n",
        "a. To just compute the performance of a model using different partitions of training and test sets and/or different hyper-parameters.\n",
        "\n",
        "b. To compute the performance of a model using different partitions of training and test sets and/or different hyper-parameters AND to select the best resulting model out of that process. We will see that in the next exercise. "
      ]
    },
    {
      "cell_type": "markdown",
      "metadata": {
        "id": "-Mr8HRm6V-Qb"
      },
      "source": [
        "## 5.1 Cross-Validation: standard logistic regression\n",
        "\n",
        "Here we will demonstrate k-fold cross-validation for our data, to evaluate the performance of standard logistic regression with class weights (option 2a above). To do so, we use [`cross_val_score`](http://scikit-learn.org/stable/modules/generated/sklearn.model_selection.cross_val_score.html). This method takes as inputs the model we wish to fit, the features we will use as predictors, and the response variable. The output is an array of model performance scores. <p> \n",
        "    **Note** that the cross-validation used is a special kind known as **stratified** k-fold cross-validation. **Stratified** means that each fold maintains the proportion of 1 and 0, YES or NO cases as in the output of the original data. \n",
        "    \n",
        "Read the [scikit-learn website on cv](http://scikit-learn.org/stable/modules/generated/sklearn.model_selection.cross_val_score.html)\n",
        "\n",
        "**For integer/None inputs, if the estimator is a classifier and y is either binary or multiclass, Stratified KFold is used. In all other cases, KFold is used.**"
      ]
    },
    {
      "cell_type": "markdown",
      "metadata": {
        "id": "zzifDQPxV-Qb"
      },
      "source": [
        "**Note:<font color=green> very very very important </font>:\n",
        "Be mindful that cross-validation is <font color=green>not</font> a way to build a model, it is only a<font color=green> method to evaluate</font> the performance of a given model in order to test or validate its generalisation.**"
      ]
    },
    {
      "cell_type": "markdown",
      "metadata": {
        "id": "XuyWXIzmV-Qc"
      },
      "source": [
        "### 5.1.1 Binarise the response\n",
        "In this case, we will use \"y_binary\" vector. Therefore, the classes in our dictionary will be 0 and 1 (instead of 'no' and 'yes')."
      ]
    },
    {
      "cell_type": "code",
      "execution_count": 20,
      "metadata": {
        "id": "ar3D9RLtV-Qc",
        "outputId": "a9f1ca04-bd70-4797-f544-8398df35d5dc",
        "colab": {
          "base_uri": "https://localhost:8080/"
        }
      },
      "outputs": [
        {
          "output_type": "stream",
          "name": "stdout",
          "text": [
            "******************************************\n",
            "y - Yes values = 11919\n",
            "y - No values = 57348\n",
            "******************************************\n",
            "\n",
            "\n",
            "******************************************\n",
            "y_binary - 1 values = 11919\n",
            "y_binary - 0 values = 57348\n",
            "******************************************\n"
          ]
        }
      ],
      "source": [
        "# Sanity Checks:\n",
        "print('******************************************')\n",
        "print('y - Yes values =', sum(i =='yes' for i in y))\n",
        "print('y - No values =', sum(i =='no' for i in y))\n",
        "print('******************************************\\n')\n",
        "\n",
        "# Create y_binary\n",
        "y_binary = [0 if x=='no' else 1 for x in y]\n",
        "\n",
        "# Sanity Checks:\n",
        "print('\\n******************************************')\n",
        "print('y_binary - 1 values =', sum(i ==1 for i in y_binary))\n",
        "print('y_binary - 0 values =', sum(i ==0 for i in y_binary))\n",
        "print('******************************************')"
      ]
    },
    {
      "cell_type": "markdown",
      "metadata": {
        "id": "hEYMlIDNV-Qc"
      },
      "source": [
        "## 5.2 Cross-Validation + Pipelines:\n",
        "\n",
        "Recall that for regularisation to be meaningful, we require the features to be <b>standardised</b>, and that we must fit the standardiser on the <b>*training set only*</b>, and then apply it to the test set. With cross-validation, the training and test set changes at each iteration. This means we must fit the scaler for each new training set in each iteration. We will achieve this by using a **pipeline**.<p> \n",
        "        **Pipelines** allow us to sequentially perform a list of transformations and a final estimator. In our case, we wish to apply the standardisation transformation, and then the logistic regression estimator.<p>\n",
        "            If we use a **pipeline** to make a cross-validated estimator using cross_val_score, then the StandardScaler will estimate the parameters for centering and rescaling to unit variance only on the training folds. When evaluating the pipeline on the test fold, the StandardScaler will use the stored means and standard deviations, and subtract the training mean from the test set and divide the result by the training standard deviation. So even in the pipeline, the StandardScaler will not use the test set in any way to determine mean and variance of the data.\n",
        "  "
      ]
    },
    {
      "cell_type": "markdown",
      "metadata": {
        "id": "vA8auHlfV-Qd"
      },
      "source": [
        "To read about Pipelines:\n",
        "1. [sckit-learn documentation](https://scikit-learn.org/stable/modules/generated/sklearn.pipeline.Pipeline.html)\n",
        "2. [An simple example of pipeline](https://towardsdatascience.com/a-simple-example-of-pipeline-in-machine-learning-with-scikit-learn-e726ffbb6976)\n"
      ]
    },
    {
      "cell_type": "markdown",
      "metadata": {
        "id": "Wesww6E5V-Qd"
      },
      "source": [
        "### 5.2.1. Define our pipeline and then use cross-validation"
      ]
    },
    {
      "cell_type": "markdown",
      "metadata": {
        "id": "_uvMnL-9V-Qd"
      },
      "source": [
        "\n",
        "We know that the diabetes dataset is an imbalanced data set. In this exercise, we are introducing some weights associated with classes for readmission 'YES' and 'NO'. The weights can be used to correct the imbalance in the data set; they are the importance, the weight that you give to each record with a readmission=YES or readmission=NO. \n"
      ]
    },
    {
      "cell_type": "code",
      "execution_count": 21,
      "metadata": {
        "id": "0bfwZnqYV-Qd"
      },
      "outputs": [],
      "source": [
        "from sklearn.linear_model import LogisticRegression\n",
        "from sklearn.pipeline import Pipeline "
      ]
    },
    {
      "cell_type": "code",
      "execution_count": 22,
      "metadata": {
        "id": "0YZJYsObV-Qd"
      },
      "outputs": [],
      "source": [
        "# Scaler/Standardisation\n",
        "from sklearn.preprocessing import StandardScaler\n",
        "Scaler = StandardScaler()\n",
        "\n",
        "# Classification Model\n",
        "class_weight_dict={0:0.4, 1:0.6}\n",
        "Log_Reg = LogisticRegression(C = 0.5, penalty = 'l1',  class_weight = class_weight_dict, solver='liblinear')\n",
        "\n",
        "# PipeLine: \n",
        "pipe = Pipeline([('Transform', Scaler), ('Estimator', Log_Reg)])"
      ]
    },
    {
      "cell_type": "markdown",
      "metadata": {
        "id": "w3g-_oAdV-Qd"
      },
      "source": [
        "We are going to start using the function `cross_val_score`, which is from the scikit-learn library. Read more on the [API (application programming interface) documentation](https://scikit-learn.org/stable/modules/generated/sklearn.model_selection.cross_val_score.html)"
      ]
    },
    {
      "cell_type": "code",
      "execution_count": 23,
      "metadata": {
        "id": "PFefIlRCV-Qd"
      },
      "outputs": [],
      "source": [
        "# Cross-validation (cross_val_score) + Pipeline, accuracy performance metric, and features with standardisation (with_standardisation)\n",
        "# Be patient, it takes some time :-):\n",
        "from sklearn.model_selection import cross_val_score \n",
        "cv_acc_with_standardisation = cross_val_score(pipe, X, y_binary, cv = 3)"
      ]
    },
    {
      "cell_type": "markdown",
      "metadata": {
        "id": "4yJsRRTDV-Qe"
      },
      "source": [
        "Check the field \"scoring\" from [`cross_val_score`](https://scikit-learn.org/stable/modules/generated/sklearn.model_selection.cross_val_score.html\n",
        "). As you can read, only a single metric is permitted.\n",
        "If this field is \"None\", the estimator’s default scorer (if available) is used.\n",
        "\n",
        "For LogisticRegression in scikit learn, the default scorer is \"accuracy\". [Check the section \"methods\", the field \"score\"](https://scikit-learn.org/stable/modules/generated/sklearn.linear_model.LogisticRegression.html)"
      ]
    },
    {
      "cell_type": "code",
      "execution_count": 24,
      "metadata": {
        "id": "v6tyQLqzV-Qe",
        "outputId": "24689923-110d-4c61-827c-5d69f6525559",
        "colab": {
          "base_uri": "https://localhost:8080/"
        }
      },
      "outputs": [
        {
          "output_type": "stream",
          "name": "stdout",
          "text": [
            "Cross-validation accuracy scores:\n",
            " [0.97539954 0.96626099 0.97089523]\n",
            "Average cross-validation score: 0.9709\n"
          ]
        }
      ],
      "source": [
        "print(\"Cross-validation accuracy scores:\\n {}\".format(cv_acc_with_standardisation))\n",
        "print(\"Average cross-validation score: {:.4f}\".format(cv_acc_with_standardisation.mean()))"
      ]
    },
    {
      "cell_type": "markdown",
      "metadata": {
        "id": "yBUhdzsMV-Qe"
      },
      "source": [
        "### 5.2.2 Cross_validate + standardisation\n",
        "\n",
        "Let's repeat the analysis using the function <font color=green>`sklearn.model_selection.cross_validate`</font> with standardisation process. **The function <font color=green>[`cross_validate`](https://scikit-learn.org/stable/modules/generated/sklearn.model_selection.cross_validate.html?highlight=cross_validate#sklearn.model_selection.cross_validate)</font> allows us to use more than one metric at a time.**"
      ]
    },
    {
      "cell_type": "markdown",
      "metadata": {
        "id": "sWgrmMF0V-Qe"
      },
      "source": [
        "<div class=\"alert alert-block alert-success\">**Start Activity**</div>"
      ]
    },
    {
      "cell_type": "markdown",
      "metadata": {
        "id": "49hpD3PCV-Qe"
      },
      "source": [
        "### <font color='brown'> Question:  Write the code that calculates the 5-CV using \"cross_validate\"+ standardised features with Pipelines. Compute accuracy, recall, precision, auc and f1 scores.  </font>"
      ]
    },
    {
      "cell_type": "markdown",
      "metadata": {
        "id": "R7l8uUfDV-Qe"
      },
      "source": [
        "Documentation:\n",
        "\n",
        "* [`cross_validate`](https://scikit-learn.org/stable/modules/generated/sklearn.model_selection.cross_validate.html#sklearn.model_selection.cross_validate)\n",
        "\n",
        "* [`metrics`](https://scikit-learn.org/stable/modules/classes.html#module-sklearn.metrics)\n",
        "\n",
        "* [`f1 score`](http://scikit-learn.org/stable/modules/generated/sklearn.metrics.f1_score.html)"
      ]
    },
    {
      "cell_type": "code",
      "execution_count": 26,
      "metadata": {
        "id": "DE7AjR5LV-Qe",
        "outputId": "fd2f7a21-8fa8-4d73-afe8-b057592f5eff",
        "colab": {
          "base_uri": "https://localhost:8080/"
        }
      },
      "outputs": [
        {
          "output_type": "stream",
          "name": "stdout",
          "text": [
            "Cross-validation accuracy scores:\n",
            " [0.98397575 0.9725711  0.9672995  0.97069227 0.97415722]\n",
            "Average cross-validation score: 0.9737\n"
          ]
        }
      ],
      "source": [
        "# Write Python code here:\n",
        "cv_acc_with_standardisation = cross_val_score(pipe, X, y_binary, cv = 5)\n",
        "print(\"Cross-validation accuracy scores:\\n {}\".format(cv_acc_with_standardisation))\n",
        "print(\"Average cross-validation score: {:.4f}\".format(cv_acc_with_standardisation.mean()))"
      ]
    },
    {
      "cell_type": "markdown",
      "metadata": {
        "id": "R3lO-vSVV-Qe"
      },
      "source": [
        "© 2022 Copyright The University of New South Wales - CRICOS 00098G"
      ]
    }
  ],
  "metadata": {
    "interpreter": {
      "hash": "aee8b7b246df8f9039afb4144a1f6fd8d2ca17a180786b69acc140d282b71a49"
    },
    "kernelspec": {
      "display_name": "Python 3.7.4 64-bit",
      "language": "python",
      "name": "python3"
    },
    "language_info": {
      "codemirror_mode": {
        "name": "ipython",
        "version": 3
      },
      "file_extension": ".py",
      "mimetype": "text/x-python",
      "name": "python",
      "nbconvert_exporter": "python",
      "pygments_lexer": "ipython3",
      "version": "3.7.4"
    },
    "colab": {
      "name": "Week-03-Exercise01.ipynb",
      "provenance": [],
      "include_colab_link": true
    }
  },
  "nbformat": 4,
  "nbformat_minor": 0
}