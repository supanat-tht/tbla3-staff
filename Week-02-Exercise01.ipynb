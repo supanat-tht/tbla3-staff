{
  "cells": [
    {
      "cell_type": "markdown",
      "metadata": {
        "id": "view-in-github",
        "colab_type": "text"
      },
      "source": [
        "<a href=\"https://colab.research.google.com/github/supanat-tht/tbla3-staff/blob/main/Week-02-Exercise01.ipynb\" target=\"_parent\"><img src=\"https://colab.research.google.com/assets/colab-badge.svg\" alt=\"Open In Colab\"/></a>"
      ]
    },
    {
      "cell_type": "markdown",
      "source": [
        "![alt text](https://drive.google.com/uc?export=view&id=1DXUVHxd4t15mfuqMgMCLnsP4jWVI5EWz)"
      ],
      "metadata": {
        "id": "0CQZEFqjIXwL"
      }
    },
    {
      "cell_type": "markdown",
      "source": [
        "© 2022 Copyright The University of New South Wales - CRICOS 00098G\n",
        "\n",
        "**Author**: Oscar Perez-Concha: o.perezconcha@unsw.edu.au\n",
        "\n",
        "**Contributors/Co-authors**: Marta Fredes-Torres, Zhisheng (Sandy) Sa and Matthew Sainsbury-Dale."
      ],
      "metadata": {
        "id": "Eb2e5tSdIZrK"
      }
    },
    {
      "cell_type": "markdown",
      "metadata": {
        "id": "hLmnuVBmqqH9"
      },
      "source": [
        "# Week 2: Linear Prediction\n",
        "\n",
        "# Exercise 1: Diabetes Hospitalisations - Data Preparation (data exploration and manipulation)\n",
        "\n",
        "\n",
        "# 1. Introduction: Machine Learning and Data Mining Work-Flow \n",
        "\n",
        "#### Step 1. Research question:\n",
        "\n",
        "We should always have in mind the final goal (what we call the 'question' or step 1 in our machine learning work-flow) of the machine learning problem that we are trying to solve. In real life, we are always interested not just in accurate predictions, but in the use of these predictions as part of a larger decision making process.\n",
        "\n",
        "In this set of exercises, <font color=green> <b> our final goal is to build a predictive algorithm to predict readmission to hospital 30 days after discharge. </b></font>\n",
        "\n",
        "![alt text](https://drive.google.com/uc?export=view&id=105SGqeyo8RgLhSO8mN7ZE5OsG0YiLPKt)\n",
        "\n",
        "####  Step 2. Data: Do we have the data to answer this research question?\n",
        "In this case, the data set that we have in our hands was directly given to us by a committee that represents the 130 hospitals. We are not 100% sure whether the data will be good enough to answer our question. The committee would like to test precisely that. Can we answer our research question using these data?\n",
        "\n",
        "####  Step 3. Data Gathering:\n",
        "\n",
        "The third step is data gathering. We assume that we have passed ethics commitees, spoken to the different IT teams of the 130 hospitals, and come up with a way to extract, transfer and store the data in a secure environment in order to carry out our research. \n",
        "\n",
        "In terms of variables, we have in mind a set of variables that might be relevant to predict readmission. But as stated above, the hospital only authorized to share with us a specific sets of variables. In other words, this will be the first attempt to solve this problem by testing algorithms and variables. Otherwise, we will have to keep testing to find the correct set of variables and the best algorithm to solve the problem. \n",
        "\n",
        "\n",
        "####  Step 4. Exploratory Data Analysis\n",
        "\n",
        "The forth step is visualisation and exploration of our data. We did part of this analysis in Chapter 1.\n",
        "<b>In this exercise, we are going to explore with more detail our features and prepare our dataset for future analysis.</b>\n",
        "\n",
        "## 1.1. Data Exploration and Manipulation: Preprocessing\n",
        "\n",
        "We always need some type of data preprocessing. Why?\n",
        "\n",
        "Different algorithms make different assumptions about your data and may require different transformations. \n",
        "Some features might be completely irrelevant for our purpose.\n",
        "Other times, some features are not coded in the right way, or there are many missing values, ..."
      ]
    },
    {
      "cell_type": "markdown",
      "source": [
        "\n",
        "\n",
        "---\n",
        "\n"
      ],
      "metadata": {
        "id": "QSb2CGRt-Vm7"
      }
    },
    {
      "cell_type": "markdown",
      "metadata": {
        "id": "YQ90j1XwqqIB"
      },
      "source": [
        "<font color=black><b> NB!!: During data cleaning process, the train and test sets are usually kept combined to maintain consistency between them. For example, when encoding a categorical variable, the same level of categories may not be present in both the sets. In such a case, they may be labelled differently if they are encoded separately. There are some researchers that prefer to split the data for visualization purposes in order to avoid what they call \"data snooping bias\", that is, to avoid our brain to spot patterns that may overfit our algorithm. We are not going to do this in this exercise.\n",
        "    \n",
        "<font color=black><b>    Having said that, we will have to distinguish when we have to carry out data manipulation with both sets combined, and when we have to split the dataset into training + test. For example, the last case will happen when we need to do some kind of imputation for missing variables. Let's say the feature age has some missing values. We might decide to impute these values with the median value of age. But watch out!! we will have to calculate the median age of the training set!!! We will impute these values in the training and test sets! Remember that the \"test\" set is \"the simulated future\". For that reason, no information from the test set should be leaked into the training set.\n",
        "    \n",
        "<font color=black><b>   In this exercise, all the cleaning will be carried out in the whole dataset. We can do that because the operations that we will do here will not leak any information from the \"future\" test set into the training set."
      ]
    },
    {
      "cell_type": "markdown",
      "source": [
        "\n",
        "\n",
        "---\n",
        "\n"
      ],
      "metadata": {
        "id": "IGBe_c3H-o3C"
      }
    },
    {
      "cell_type": "markdown",
      "metadata": {
        "id": "R8Xpd748qqIC"
      },
      "source": [
        "## 1.2. Aims of the Exercise:\n",
        " 1. To manipulate our data to be in the right format for the predictive model that we selected.\n",
        " 2. To select input variables.\n",
        " 3. To continue becoming familiar with the diabetes inpatient hospital dataset and the clinical terms contained in it.\n",
        "\n",
        " This exercise aligns with the next course learning outcomes:\n",
        " \n",
        "3. Apply machine learning workflow to health data problems."
      ]
    },
    {
      "cell_type": "markdown",
      "metadata": {
        "id": "rXo_KEDLqqID"
      },
      "source": [
        "## 1.3. Jupyter Notebook Intructions\n",
        "1. Read the content of each cell.\n",
        "2. Where necessary, follow the instructions that are written in each cell.\n",
        "3. Run/Execute all the cells that contain Python code sequentially (one at a time), using the \"Run\" button.\n",
        "4. For those cells in which you are asked to write some code, please write the Python code first and then execute/run the cell."
      ]
    },
    {
      "cell_type": "markdown",
      "metadata": {
        "id": "-85jmBnaqqIE"
      },
      "source": [
        "## 1.4. Tips\n",
        "1. Run all the cells in sequence (one at a time), using the \"Run\" button.\n",
        "2. To edit this notebook, just double-click in each cell. Choose between \"Code\" cell or text \"Markdown\" cell in the combo-box above. \n",
        "3. If you want to save your notebook, please make sure you press \"the floppy disk\" icon button above. \n",
        "4. To clean the content of all cells and re-start Notebook, please go to Cell->All Output->Clear\n",
        "\n",
        "Follow the instructions given and if you have any questions, please use the **Comments section** in **Open Learning**. "
      ]
    },
    {
      "cell_type": "markdown",
      "metadata": {
        "id": "IeUAKORPqqIF"
      },
      "source": [
        "# 2. Docstring: \n",
        "\n",
        "Create a docstring with the variables and constants that you will use in this exercise (data dictionary) and the purpose of your program. It is expected that you choose informative variable names and document your program (both docstrings and comments)."
      ]
    },
    {
      "cell_type": "markdown",
      "metadata": {
        "id": "JDmUsQMFqqIH"
      },
      "source": [
        "<b> Write the answer here:</b>\n",
        "(double-click here)\n",
        "#####################################################################################################################\n",
        "\n",
        "**== Aim/s ==**\n",
        "\n",
        "**Data engineering**\n",
        "\n",
        "\n",
        "\n",
        "\n",
        "**== Variables ==**\n",
        "\n",
        "For _setup directory_\n",
        "\n",
        "* `root` file path for google drive\n",
        "* `project_path` file path for project data, output, notebook etc\n",
        "* `original_pickle_path` file path for the pickle file saved from week 1 exercise 1\n",
        "* `pickle_path` file path for pickle output\n",
        "\n",
        "For _dataset preparation_ (i.e. feature/target and train/test)\n",
        "- `hospital` pandas DataFrame object contains original data\n",
        "\n",
        "For _Intermediate Variables_ (i.e. deleted after use)\n",
        "- `dic_map` a dictionary used for mapping variables\n",
        "- `readmission` a series object contains the variable 'readmission' from the dataset\n",
        "\n",
        "For data _visualization_ and _analysis_\n",
        "- `hospital_plot` pandas DataFrame to create long format data used in plotting\n",
        "\n",
        "\n",
        "**== Constant (Universal) ==**\n",
        "\n",
        "(add any constant variables here)\n",
        "\n",
        "#####################################################################################################################"
      ]
    },
    {
      "cell_type": "markdown",
      "metadata": {
        "id": "JDZtwVlwqqII"
      },
      "source": [
        "# 3. Load the data and select only desired columns.\n",
        "\n",
        "For this chapter, we will be building a <b>logistic regression model to predict readmission</b>. This is a binary classification problem, meaning the target has only two outcomes: 'yes', and 'no'. \n",
        "\n",
        "Now, we will load the hospital dataset and manipulate the features that need some changes.\n",
        "        \n",
        "Some important points to have in mind:<p>\n",
        "    \n",
        " 1. The decision of which algorithm to  use will depend on several factors that we learn during the course. Here we tell you directly to use logistic regression because it is the classification algorithm that we learned in this lesson.<p>\n",
        "    \n",
        " 2. Time of prediction: \n",
        " Since we are predicting readmission at discharge (this is the time that the prediction is made), it is reasonable to assume that we can use all the data available for *all* features. <p>\n",
        " When some data is given to us, we are tempted to assume that all the data is known at all times, and we can use all features for our predictive algorithm. However, this is often not the case. Let me explain this. \n",
        "     \n",
        "     In **our example**, the data represents a hospital encounter or hospitalizations. We do not have time stamps of when a medication has been changed, or a lab test has been carried out. But what we know is that at discharge time, all this data is already in the electronic medical record. Therefore, we can use all this data if our time of prediction is discharge. \n",
        " But if our time of prediction had been half way through the hospitalization, we should have been more careful and all the time stamps would have been needed.<p>\n",
        "    \n",
        " As another example, if we wanted to predict length of stay (los), this is a value we would like to predict at the *beginning* of a patients stay. At the beginning of a patients stay, most of the lab tests wouldn't have been peformed, and we wouldn't know values such as number of procedures or surgeries performed, etc. Hence, we couldn't reasonably use all the features of the data set to predict length of stay."
      ]
    },
    {
      "cell_type": "code",
      "execution_count": 88,
      "metadata": {
        "id": "PNmiWb5EqqIJ"
      },
      "outputs": [],
      "source": [
        "import sys\n",
        "import numpy as np\n",
        "import pandas as pd\n",
        "from IPython.display import display\n",
        "import seaborn as sns"
      ]
    },
    {
      "cell_type": "code",
      "execution_count": 89,
      "metadata": {
        "id": "YZHOfSkfqqIL",
        "outputId": "724a23e2-046d-4495-eb01-c8b4af3d8ba6",
        "colab": {
          "base_uri": "https://localhost:8080/"
        }
      },
      "outputs": [
        {
          "output_type": "stream",
          "name": "stdout",
          "text": [
            "Drive already mounted at /content/drive; to attempt to forcibly remount, call drive.mount(\"/content/drive\", force_remount=True).\n"
          ]
        }
      ],
      "source": [
        "# Mount Google Drive\n",
        "# We do not need to run this cell if you are not running this notebook in Google Colab\n",
        "\n",
        "if 'google.colab' in str(get_ipython()):\n",
        "    from google.colab import drive # import drive from Gogle colab\n",
        "    root = '/content/drive'     # default location for the drive\n",
        "    # print(root)                 # print content of ROOT (Optional)\n",
        "    drive.mount(root)\n",
        "else:\n",
        "    print('Not running on CoLab')"
      ]
    },
    {
      "cell_type": "markdown",
      "metadata": {
        "id": "zzOkMVwIKYGX"
      },
      "source": [
        "If you are running this notebook in Google Colab, you must define your project paths. In this case, define your `project_path`. Otherwise, all the data will be lost after you close the session."
      ]
    },
    {
      "cell_type": "code",
      "execution_count": 90,
      "metadata": {
        "id": "_e3tIPibvIvl"
      },
      "outputs": [],
      "source": [
        "from pathlib import Path\n",
        "\n",
        "if 'google.colab' in str(get_ipython()):\n",
        "    # EDIT THE PROJECT PATH IF DIFFERENT WITH YOUR ONE\n",
        "    project_path = Path(root) / 'MyDrive' / 'HDAT9500' / 'week02'\n",
        "\n",
        "    # OPTIONAL - set working directory according to your google drive project path\n",
        "    # import os\n",
        "    # Change directory to the location defined in project_path\n",
        "    # os.chdir(project_path)\n",
        "else:\n",
        "    project_path = Path()"
      ]
    },
    {
      "cell_type": "markdown",
      "source": [
        "We are using the `picke` that we already saved in a previous exercise. Feel free to use your own `pickle` (that is, the one you saved) or the one that is included in the GitHub (inside the `data/diabetes/` folder). If you decide to use the one in the GitHub, you will need to transfer this `pickle` to the correct folder in your Google Drive. Follow these 3 steps:\n",
        "\n",
        "\n",
        "1) <b> Step 1:</b> Click on the `pickle` as per the image below:\n",
        "\n",
        "\n",
        "![alt text](https://drive.google.com/uc?export=view&id=1QhdSYC0iDJVWByx6edREVEoo_QObuPop)\n"
      ],
      "metadata": {
        "id": "BZikYX5BBB3c"
      }
    },
    {
      "cell_type": "markdown",
      "source": [
        "2) <b> Step 2:</b> Download the `pickle` but pressing the Download button on the lower right hand side of the screen (see image below) and copy the `pickle` into the right folder in your Google Drive. \n",
        "\n",
        "Remember that your Google Drive can be use as the storage cloud for your Google Colab. GitHub is also a storage cloud, but some items, such as the `pickles`, cannot be loaded directly from GitHub to Colab and that's why we have to follow this intermediate step.**bold text**\n",
        "\n",
        "\n",
        "![alt text](https://drive.google.com/uc?export=view&id=1IX2pdrw-mDIOXKJHWx0IVHFfCAmm38-I)"
      ],
      "metadata": {
        "id": "QM5Rw8tsDHaq"
      }
    },
    {
      "cell_type": "markdown",
      "source": [
        "3 <b> Step 3:</b> Drag and drop the `pickle` from the Download folder or wherever you downloaded to your correct folder in Google Drive as per the image below. In this case, the folder in Google drive was HDAT9500/week02/data/diabetes\n",
        "You can create new folder by right clicking on the Google Drive space.\n",
        "\n",
        "![alt text](https://drive.google.com/uc?export=view&id=1wZSTwmSdwEPZL8u1mmLaZ4T2OJyDkX4m)\n"
      ],
      "metadata": {
        "id": "tTQ4R-jXTCxP"
      }
    },
    {
      "cell_type": "code",
      "execution_count": 91,
      "metadata": {
        "id": "bfMWU6LNqqIL"
      },
      "outputs": [],
      "source": [
        "import pickle\n",
        "pickle_data_path = Path(project_path) /'data'/'diabetes'/'hospital.pickle'\n",
        "with open(pickle_data_path, 'rb') as data:\n",
        "   hospital = pickle.load(data)"
      ]
    },
    {
      "cell_type": "code",
      "execution_count": 92,
      "metadata": {
        "id": "aWBNXeGkqqIM",
        "scrolled": true,
        "outputId": "295a663e-9085-4d12-a6b6-28a21bd6c83a",
        "colab": {
          "base_uri": "https://localhost:8080/"
        }
      },
      "outputs": [
        {
          "output_type": "stream",
          "name": "stdout",
          "text": [
            "Index(['los', 'Age', 'sex', 'payer_code', 'medical_specialty', 'max_glu_serum',\n",
            "       'A1Cresult', 'number_diagnoses', 'num_lab_procedures', 'num_procedures',\n",
            "       'num_medications', 'number_emergency', 'number_inpatient',\n",
            "       'number_outpatient', 'group_name_1', 'group_name_2', 'group_name_3',\n",
            "       'readmission', 'admission_type_id_cat', 'discharge_disposition_id_cat',\n",
            "       'admission_source_id_cat'],\n",
            "      dtype='object')\n",
            "(69270, 21)\n"
          ]
        }
      ],
      "source": [
        "# Sanity Check:\n",
        "print(hospital.columns)\n",
        "print(hospital.shape)"
      ]
    },
    {
      "cell_type": "markdown",
      "metadata": {
        "id": "McX-9P5UqqIP"
      },
      "source": [
        "# 4. Grouping the features  'discharge_disposition_id',  'admission_source_id' and 'admission_type_id'.\n",
        "\n",
        "As we could see in the [data dictionary](./data/diabetes/Data_Dictionary.pdf), the majority of discharges are 'Discharge home', followed by 'Discharged/Transferred to SNF' (SNF=Skilled Nursing Facility) and 'Discharge/Transferred to home with home health service'. One option could be to create a new variable, which pools some of these levels together.<p>\n",
        "    For this, we will create a new variable named \"discharge_disposition_grouped\". It will retain the levels 'Discharge home', 'Discharged/Transferred to SNF', and 'Discharge/Transferred to home with home health service'. We will also create a new level named 'Discharged to rehab, another type of inpatient care institution or short term hospital', which will include all observations from 'Discharge/Transferred to another rehab fac including rehab units of a hospital', 'Discharge/Tranferred to another type of inpatient care institution', and 'Discharge/transferred to another short term hospital'. The rest of the data will be grouped into a new level named 'Other'.\n",
        "\n",
        "**Method**<br/>\n",
        "First, each of the id features are duplicated and stored in the dataset under the same name but ending with *grouped* rather than *id*. Then, we create a dictionary object containing the desired mappings from numeric ids to word description. Finally, we use the *.map()* function to map the ids to their descriptions and convert to string data type."
      ]
    },
    {
      "cell_type": "markdown",
      "metadata": {
        "id": "Ua6muM6VqqIP"
      },
      "source": [
        "**Duplicating the columns**"
      ]
    },
    {
      "cell_type": "code",
      "execution_count": 93,
      "metadata": {
        "id": "_JbFVfjPqqIP"
      },
      "outputs": [],
      "source": [
        "# Duplicating each of the desired columns\n",
        "hospital['discharge_disposition_grouped'] = hospital['discharge_disposition_id_cat']\n",
        "hospital['admission_source_grouped'] = hospital['admission_source_id_cat']\n",
        "hospital['admission_type_grouped'] = hospital['admission_type_id_cat']"
      ]
    },
    {
      "cell_type": "markdown",
      "metadata": {
        "id": "a8En772uqqIQ"
      },
      "source": [
        "********************************************************************************************************************************************************\n",
        "**\"admission_type_id\" (Check [data dictionary](./data/diabetes/Data_Dictionary.pdf))**\n",
        "\n",
        "**Counts and visualization for variable \"admission_type_id\" :**"
      ]
    },
    {
      "cell_type": "code",
      "execution_count": 94,
      "metadata": {
        "id": "6McazWDIqqIQ",
        "outputId": "67d218dc-1505-4392-ec81-c1d99c04d53e",
        "colab": {
          "base_uri": "https://localhost:8080/"
        }
      },
      "outputs": [
        {
          "output_type": "stream",
          "name": "stdout",
          "text": [
            "1    25933\n",
            "3    24270\n",
            "2    11769\n",
            "5     4134\n",
            "4     2868\n",
            "7      279\n",
            "6       17\n",
            "Name: admission_type_id_cat, dtype: int64\n"
          ]
        }
      ],
      "source": [
        "print(hospital.admission_type_id_cat.value_counts())"
      ]
    },
    {
      "cell_type": "code",
      "execution_count": 95,
      "metadata": {
        "id": "9D2KwYhDqqIR",
        "outputId": "d64d2a15-8143-4bd3-ed96-0a6db76e3d5e",
        "colab": {
          "base_uri": "https://localhost:8080/",
          "height": 280
        }
      },
      "outputs": [
        {
          "output_type": "display_data",
          "data": {
            "text/plain": [
              "<Figure size 432x288 with 1 Axes>"
            ],
            "image/png": "[encoded data removed]"
          },
          "metadata": {
            "needs_background": "light"
          }
        }
      ],
      "source": [
        "# Source: https://seaborn.pydata.org/generated/seaborn.countplot.html\n",
        "ax = sns.countplot(x=\"admission_type_id_cat\", hue=\"readmission\", data=hospital)\n"
      ]
    },
    {
      "cell_type": "markdown",
      "metadata": {
        "id": "31Dw6HFqqqIR"
      },
      "source": [
        "**Using dictionary mapping for 'admission_type_grouped' (Source: [data dictionary](./data/diabetes/Data_Dictionary.pdf)):**"
      ]
    },
    {
      "cell_type": "code",
      "execution_count": 96,
      "metadata": {
        "id": "W3JRs2VfqqIR"
      },
      "outputs": [],
      "source": [
        "# Mapping admission_type_id to admission_type_grouped\n",
        "dict_map = ({1:'Emergency' ,\n",
        "             2:'Urgent',\n",
        "             3:'Elective',\n",
        "             4:'Not Available/Null',\n",
        "             5:'Not Available/Null',\n",
        "             6:'Trauma Centre',\n",
        "             7:'Not Available/Null'})\n",
        "hospital['admission_type_grouped'] = hospital['admission_type_grouped'].map(dict_map)\n",
        "hospital['admission_type_grouped'] = hospital['admission_type_grouped'].astype(str)"
      ]
    },
    {
      "cell_type": "code",
      "execution_count": 97,
      "metadata": {
        "id": "zYiKfZQ9qqIS",
        "outputId": "95018f8e-390f-4df1-b889-669052be27eb",
        "colab": {
          "base_uri": "https://localhost:8080/"
        }
      },
      "outputs": [
        {
          "output_type": "execute_result",
          "data": {
            "text/plain": [
              "Emergency             25933\n",
              "Elective              24270\n",
              "Urgent                11769\n",
              "Not Available/Null     7281\n",
              "Trauma Centre            17\n",
              "Name: admission_type_grouped, dtype: int64"
            ]
          },
          "metadata": {},
          "execution_count": 97
        }
      ],
      "source": [
        "#Sanity Check\n",
        "hospital['admission_type_grouped'].value_counts()"
      ]
    },
    {
      "cell_type": "markdown",
      "metadata": {
        "id": "tsy2cgPuqqIS"
      },
      "source": [
        "********************************************************************************************************************************************************\n",
        "**\"discharge_disposition_id\" (Check [data dictionary](./data/diabetes/Data_Dictionary.pdf))**\n",
        "\n",
        "**Counts and visualization for variable \"discharge_disposition_id\":**"
      ]
    },
    {
      "cell_type": "code",
      "execution_count": 98,
      "metadata": {
        "id": "KPpwfRrVqqIS",
        "outputId": "156c298f-232b-4c9c-ec0a-ff305c66be60",
        "colab": {
          "base_uri": "https://localhost:8080/"
        }
      },
      "outputs": [
        {
          "output_type": "stream",
          "name": "stdout",
          "text": [
            "1     43689\n",
            "2      1534\n",
            "3      8783\n",
            "4       541\n",
            "5       908\n",
            "6      8276\n",
            "7       398\n",
            "8        73\n",
            "9         8\n",
            "12        2\n",
            "15       40\n",
            "16        3\n",
            "17        8\n",
            "18     2473\n",
            "22     1410\n",
            "23      260\n",
            "24       25\n",
            "25      746\n",
            "27        3\n",
            "28       90\n",
            "Name: discharge_disposition_id_cat, dtype: int64\n"
          ]
        }
      ],
      "source": [
        "print(hospital.discharge_disposition_id_cat.value_counts(sort=False))"
      ]
    },
    {
      "cell_type": "markdown",
      "metadata": {
        "id": "cJliE-QbKYGa"
      },
      "source": [
        "As you can see, the only incosistent category would be `discharge_disposition_id=10`, `Neonate discharged to another hospital for neonatal aftercare`.  We should not have (and you do not have) any record in that category, since our patients are all 18+ years old. Check the [data dictionary]"
      ]
    },
    {
      "cell_type": "code",
      "execution_count": 99,
      "metadata": {
        "id": "Hd9mPHfwqqIT",
        "outputId": "f25b97c1-6194-4120-fb3b-5d4da3ca9c0c",
        "colab": {
          "base_uri": "https://localhost:8080/",
          "height": 280
        }
      },
      "outputs": [
        {
          "output_type": "display_data",
          "data": {
            "text/plain": [
              "<Figure size 432x288 with 1 Axes>"
            ],
            "image/png": "[encoded data removed]"
          },
          "metadata": {
            "needs_background": "light"
          }
        }
      ],
      "source": [
        "# Source: https://seaborn.pydata.org/generated/seaborn.countplot.html\n",
        "ax = sns.countplot(x=\"discharge_disposition_id_cat\", hue=\"readmission\", data=hospital)\n"
      ]
    },
    {
      "cell_type": "markdown",
      "metadata": {
        "id": "a6CkcDhgqqIT"
      },
      "source": [
        "**Using dictionary mapping for 'discharge_disposition_grouped' (Source: [data dictionary](./data/diabetes/Data_Dictionary.pdf)):**"
      ]
    },
    {
      "cell_type": "code",
      "execution_count": 100,
      "metadata": {
        "id": "5GgHo9ODqqIT"
      },
      "outputs": [],
      "source": [
        "# Mapping admission_source_id to discharge_disposition_grouped\n",
        "dict_map = ({1: 'Discharged to home',\n",
        "             2: 'Short term hospital', \n",
        "             3: 'Transferred to SNF',\n",
        "             4: 'Transferred to ICF', \n",
        "             5: 'Short term hospital',\n",
        "             6: 'Home health service',\n",
        "             7: 'Left AMA',\n",
        "             8: 'Home health service',\n",
        "             9: 'Other', \n",
        "             10: 'Other', \n",
        "             12: 'Other', \n",
        "             15: 'Other', \n",
        "             16: 'Other', \n",
        "             17: 'Other', \n",
        "             18: 'Not available/Null', \n",
        "             22: 'Short term hospital',\n",
        "             23: 'Other',\n",
        "             24: 'Other', \n",
        "             25: 'Not available/Null',\n",
        "             27: 'Other',\n",
        "             28: 'Other'\n",
        "             })\n",
        "hospital['discharge_disposition_grouped'] = hospital['discharge_disposition_grouped'].map(dict_map)\n",
        "hospital['discharge_disposition_grouped'] = hospital['discharge_disposition_grouped'].astype(str)"
      ]
    },
    {
      "cell_type": "code",
      "execution_count": 101,
      "metadata": {
        "id": "R078AJmTqqIU",
        "outputId": "ef9190f5-e929-4db5-c00f-081ae97cfbdc",
        "colab": {
          "base_uri": "https://localhost:8080/"
        }
      },
      "outputs": [
        {
          "output_type": "execute_result",
          "data": {
            "text/plain": [
              "Discharged to home     43689\n",
              "Transferred to SNF      8783\n",
              "Home health service     8349\n",
              "Short term hospital     3852\n",
              "Not available/Null      3219\n",
              "Transferred to ICF       541\n",
              "Other                    439\n",
              "Left AMA                 398\n",
              "Name: discharge_disposition_grouped, dtype: int64"
            ]
          },
          "metadata": {},
          "execution_count": 101
        }
      ],
      "source": [
        "#Sanity Check\n",
        "hospital['discharge_disposition_grouped'].value_counts()"
      ]
    },
    {
      "cell_type": "markdown",
      "metadata": {
        "id": "PjyzTpRFqqIU"
      },
      "source": [
        "********************************************************************************************************************************************************\n",
        "**\"admission_source_id\" (Check [data dictionary](./data/diabetes/Data_Dictionary.pdf))**\n",
        "\n",
        "**Counts and visualization for variable \"admission_source_id\" (Check [data dictionary](./data/diabetes/Data_Dictionary.pdf)):**"
      ]
    },
    {
      "cell_type": "code",
      "execution_count": 102,
      "metadata": {
        "id": "3jZkqoK8qqIU",
        "outputId": "2650e282-f7b3-4e85-9269-1e0254ba82d1",
        "colab": {
          "base_uri": "https://localhost:8080/"
        }
      },
      "outputs": [
        {
          "output_type": "stream",
          "name": "stdout",
          "text": [
            "7     44510\n",
            "1     15826\n",
            "11     4351\n",
            "4      2014\n",
            "6      1211\n",
            "2       690\n",
            "5       359\n",
            "12      124\n",
            "9        86\n",
            "3        83\n",
            "8         8\n",
            "10        5\n",
            "14        2\n",
            "13        1\n",
            "Name: admission_source_id_cat, dtype: int64\n"
          ]
        }
      ],
      "source": [
        "print(hospital.admission_source_id_cat.value_counts())"
      ]
    },
    {
      "cell_type": "code",
      "execution_count": 103,
      "metadata": {
        "id": "38UGi-jsqqIU",
        "outputId": "525118c6-d587-43f7-fb69-b55be4c13883",
        "colab": {
          "base_uri": "https://localhost:8080/",
          "height": 280
        }
      },
      "outputs": [
        {
          "output_type": "display_data",
          "data": {
            "text/plain": [
              "<Figure size 432x288 with 1 Axes>"
            ],
            "image/png": "[encoded data removed]"
          },
          "metadata": {
            "needs_background": "light"
          }
        }
      ],
      "source": [
        "# Source: https://seaborn.pydata.org/generated/seaborn.countplot.html\n",
        "ax = sns.countplot(x=\"admission_source_id_cat\", hue=\"readmission\", data=hospital)\n"
      ]
    },
    {
      "cell_type": "markdown",
      "metadata": {
        "id": "h6uePnoaqqIV"
      },
      "source": [
        "**Using dictionary mapping for 'admission_source_grouped' (Source: [data dictionary](./data/diabetes/Data_Dictionary.pdf)):**"
      ]
    },
    {
      "cell_type": "code",
      "execution_count": 104,
      "metadata": {
        "id": "zWcpblFuqqIV"
      },
      "outputs": [],
      "source": [
        "dict_map = ({1: 'Physician Referral',\n",
        "             2: 'Clinic Referral',\n",
        "             4: 'Transfer from another health care facility',\n",
        "             5: 'Transfer from SNF', \n",
        "             6: 'Transfer from another health care facility',\n",
        "             7: 'Emergency Room', \n",
        "             9: 'Not available/Null',\n",
        "             11: 'Not available/Null',\n",
        "             12: 'Not available/Null',\n",
        "             3: 'Other',\n",
        "             8: 'Other',\n",
        "             10: 'Other',\n",
        "             13: 'Other',\n",
        "             14: 'Other'})\n",
        "hospital['admission_source_grouped'] = hospital['admission_source_grouped'].map(dict_map)\n",
        "hospital['admission_source_grouped'] = hospital['admission_source_grouped'].astype(str)"
      ]
    },
    {
      "cell_type": "code",
      "execution_count": 105,
      "metadata": {
        "id": "n6bbTkVJqqIW",
        "outputId": "fab3346d-1bcd-4fac-8bb3-34e1e27b82c8",
        "colab": {
          "base_uri": "https://localhost:8080/"
        }
      },
      "outputs": [
        {
          "output_type": "execute_result",
          "data": {
            "text/plain": [
              "Emergency Room                                44510\n",
              "Physician Referral                            15826\n",
              "Not available/Null                             4561\n",
              "Transfer from another health care facility     3225\n",
              "Clinic Referral                                 690\n",
              "Transfer from SNF                               359\n",
              "Other                                            99\n",
              "Name: admission_source_grouped, dtype: int64"
            ]
          },
          "metadata": {},
          "execution_count": 105
        }
      ],
      "source": [
        "#Sanity Check\n",
        "hospital['admission_source_grouped'].value_counts()"
      ]
    },
    {
      "cell_type": "markdown",
      "metadata": {
        "id": "sJgpls5BqqIW"
      },
      "source": [
        "**Delete 'id' features for discharge disposition, admission source and admission type.**"
      ]
    },
    {
      "cell_type": "code",
      "execution_count": 106,
      "metadata": {
        "id": "_aJacwKXqqIW"
      },
      "outputs": [],
      "source": [
        "# Drop continuous variables for grouped variables\n",
        "hospital = hospital.drop(['discharge_disposition_id_cat','admission_source_id_cat','admission_type_id_cat'], axis = 1)"
      ]
    },
    {
      "cell_type": "code",
      "execution_count": 107,
      "metadata": {
        "id": "0UNTzcEWqqIW",
        "outputId": "8ac456b5-2c40-408c-e53a-17ee939f95c6",
        "colab": {
          "base_uri": "https://localhost:8080/"
        }
      },
      "outputs": [
        {
          "output_type": "execute_result",
          "data": {
            "text/plain": [
              "Index(['los', 'Age', 'sex', 'payer_code', 'medical_specialty', 'max_glu_serum',\n",
              "       'A1Cresult', 'number_diagnoses', 'num_lab_procedures', 'num_procedures',\n",
              "       'num_medications', 'number_emergency', 'number_inpatient',\n",
              "       'number_outpatient', 'group_name_1', 'group_name_2', 'group_name_3',\n",
              "       'readmission', 'discharge_disposition_grouped',\n",
              "       'admission_source_grouped', 'admission_type_grouped'],\n",
              "      dtype='object')"
            ]
          },
          "metadata": {},
          "execution_count": 107
        }
      ],
      "source": [
        "# Check\n",
        "hospital.columns"
      ]
    },
    {
      "cell_type": "markdown",
      "metadata": {
        "id": "8Kc3IpHQqqIW"
      },
      "source": [
        "# 5. Categorical data - Dummy variables\n",
        "\n",
        "Linear models, as with many learning methods covered in this course, require strictly numeric inputs in order to <b>use scikit-learn in Python</b>.  We will need to convert our categorical features into numerics. To do this, we will use the concept of dummy variables methods covered in chapter 1."
      ]
    },
    {
      "cell_type": "markdown",
      "metadata": {
        "id": "PKr6c-M2qqIW"
      },
      "source": [
        "## 5.1 Checking the levels of categorical variables with missing information.\n",
        "We should check that each categorical column contains only the expected values, and no mispellings have occured. This is an important step when dealing with categorical variables, as it can remove many unexpected errors and results during analysis. \n",
        "\n",
        "In Chapter 1, we were able to visualise sections of missing data ('?') in the variables 'weight', 'payer_code' and 'medical_specialty'. In addition, we identified missing values regarding 'sex'. Therefore, we will define whether we should keep or delete the missing values by analysing the number of records in these categories.\n",
        "\n",
        "**Lets look at the sex, weight, payer_code and medical_specialty variables.**"
      ]
    },
    {
      "cell_type": "code",
      "execution_count": 108,
      "metadata": {
        "id": "WzTCorjWqqIW",
        "outputId": "a1baefd3-c48b-4535-858d-88881ad72851",
        "colab": {
          "base_uri": "https://localhost:8080/"
        }
      },
      "outputs": [
        {
          "output_type": "stream",
          "name": "stdout",
          "text": [
            "Female             36841\n",
            "Male               32426\n",
            "Unknown/Invalid        3\n",
            "Name: sex, dtype: int64\n"
          ]
        }
      ],
      "source": [
        "print(hospital.sex.value_counts())"
      ]
    },
    {
      "cell_type": "code",
      "execution_count": 109,
      "metadata": {
        "id": "J2gQmmvrqqIX",
        "scrolled": true,
        "outputId": "bffa0851-dda1-4508-b66d-0e7aa1c879d7",
        "colab": {
          "base_uri": "https://localhost:8080/"
        }
      },
      "outputs": [
        {
          "output_type": "stream",
          "name": "stdout",
          "text": [
            "?     29912\n",
            "MC    19782\n",
            "HM     3958\n",
            "BC     3359\n",
            "SP     3276\n",
            "MD     2112\n",
            "CP     1916\n",
            "UN     1839\n",
            "CM     1292\n",
            "OG      645\n",
            "PO      455\n",
            "DM      364\n",
            "WC      117\n",
            "CH      111\n",
            "OT       62\n",
            "SI       37\n",
            "MP       32\n",
            "FR        1\n",
            "Name: payer_code, dtype: int64\n"
          ]
        }
      ],
      "source": [
        "print(hospital.payer_code.value_counts())"
      ]
    },
    {
      "cell_type": "code",
      "execution_count": 110,
      "metadata": {
        "id": "9PEL3tzUqqIX",
        "scrolled": true,
        "outputId": "c27d7a95-f041-4c63-b172-f350f450f2c2",
        "colab": {
          "base_uri": "https://localhost:8080/"
        }
      },
      "outputs": [
        {
          "output_type": "stream",
          "name": "stdout",
          "text": [
            "?                         33422\n",
            "InternalMedicine          10607\n",
            "Family/GeneralPractice     4955\n",
            "Emergency/Trauma           4370\n",
            "Cardiology                 4206\n",
            "                          ...  \n",
            "Speech                        1\n",
            "SportsMedicine                1\n",
            "Dermatology                   1\n",
            "Perinatology                  1\n",
            "Neurophysiology               1\n",
            "Name: medical_specialty, Length: 63, dtype: int64\n"
          ]
        }
      ],
      "source": [
        "print(hospital.medical_specialty.value_counts())"
      ]
    },
    {
      "cell_type": "markdown",
      "metadata": {
        "id": "RcJzzJZrqqIY"
      },
      "source": [
        "**Decisions**\n",
        "1. We notice that the Unknown/Invalid category from 'sex' variable has only 3 records. This is a very small sample size in comparison with the total number of records (~70,000). Thus, any pattern in readmission discovered based on the sex being Unknown/Invalid would most likely just be down to chance. Hence, we decide to delete these records.\n",
        "2. Most records have missing values for 'payer_code' ('?'=29,922). Therefore, we will remove this variable from our dataset.\n",
        "3. Most records have missing values for 'medical_specialty' ('?'=33,432). Therefore, we will remove this variable from our dataset."
      ]
    },
    {
      "cell_type": "code",
      "execution_count": 111,
      "metadata": {
        "id": "dZ0ihb1vqqIY",
        "outputId": "325191f4-198f-404d-af1d-9a6ded1bf7fd",
        "colab": {
          "base_uri": "https://localhost:8080/"
        }
      },
      "outputs": [
        {
          "output_type": "stream",
          "name": "stdout",
          "text": [
            "Female    36841\n",
            "Male      32426\n",
            "Name: sex, dtype: int64\n"
          ]
        }
      ],
      "source": [
        "# Deleting category Unknown/Invalid from sex variable\n",
        "hospital = hospital[hospital.sex != 'Unknown/Invalid']\n",
        "#Sanity Check\n",
        "print(hospital.sex.value_counts())"
      ]
    },
    {
      "cell_type": "code",
      "execution_count": 112,
      "metadata": {
        "id": "vF5hcSYrqqIY"
      },
      "outputs": [],
      "source": [
        "# Drop weight, payer_code and medical_specialty\n",
        "hospital = hospital.drop(['payer_code','medical_specialty'],axis=1)"
      ]
    },
    {
      "cell_type": "markdown",
      "metadata": {
        "id": "_ha9ihkwqqIZ"
      },
      "source": [
        "## 5.2 Creating the dummy variables\n",
        "We already transformed our continuous variables that were categorical in the correct format ('admission_type_grouped', 'discharge_disposition_grouped', and 'admission_source_grouped'). Now that we have the data in an appropriate form, we are ready to create our dummy variables. "
      ]
    },
    {
      "cell_type": "code",
      "execution_count": 113,
      "metadata": {
        "id": "vSGWBioBqqIZ",
        "outputId": "b7904744-c982-4b82-cdbc-c787913233d8",
        "colab": {
          "base_uri": "https://localhost:8080/"
        }
      },
      "outputs": [
        {
          "output_type": "execute_result",
          "data": {
            "text/plain": [
              "los                               int64\n",
              "Age                               int64\n",
              "sex                              object\n",
              "max_glu_serum                    object\n",
              "A1Cresult                        object\n",
              "number_diagnoses                  int64\n",
              "num_lab_procedures                int64\n",
              "num_procedures                    int64\n",
              "num_medications                   int64\n",
              "number_emergency                  int64\n",
              "number_inpatient                  int64\n",
              "number_outpatient                 int64\n",
              "group_name_1                     object\n",
              "group_name_2                     object\n",
              "group_name_3                     object\n",
              "readmission                      object\n",
              "discharge_disposition_grouped    object\n",
              "admission_source_grouped         object\n",
              "admission_type_grouped           object\n",
              "dtype: object"
            ]
          },
          "metadata": {},
          "execution_count": 113
        }
      ],
      "source": [
        "# Checking the nature of the new grouped variables variables\n",
        "hospital.dtypes"
      ]
    },
    {
      "cell_type": "markdown",
      "metadata": {
        "id": "Z5JRq_fyqqIZ"
      },
      "source": [
        "We **do not** want to convert the response variable into a dummy variable. Therefore, we will follow these steps:\n",
        "\n",
        "1) We will save the 'readmission' variable first. \n"
      ]
    },
    {
      "cell_type": "code",
      "execution_count": 114,
      "metadata": {
        "id": "PLDCZCGnqqIa"
      },
      "outputs": [],
      "source": [
        "#  We save our output (y)\n",
        "readmission = hospital['readmission']"
      ]
    },
    {
      "cell_type": "markdown",
      "source": [
        "2) We will then extract 'readmission' when we perform the `pd.get_dummies` transformation. \n",
        "\n",
        "3) We will add readmission back into the hospital data frame."
      ],
      "metadata": {
        "id": "9uogLAKNVZ8D"
      }
    },
    {
      "cell_type": "markdown",
      "metadata": {
        "id": "1cN5Q9WvqqIa"
      },
      "source": [
        "### <font color='brown'>Question 1: Write below the code to create dummy variables - one-hot encoded </font>\n",
        "<font color='green'>Tip: Remember, we do not want to convert the response, 'readmission', to a dummy variable. You may want to use `DataFrame.drop('column name', axis = 1)`, to choose all but the specified columns.\n"
      ]
    },
    {
      "cell_type": "code",
      "execution_count": 115,
      "metadata": {
        "id": "4e4bkPg1qqIb"
      },
      "outputs": [],
      "source": [
        "#Type code here\n",
        "\n",
        "hospital = hospital.drop('readmission', axis = 1)\n",
        "hospital = pd.get_dummies(hospital)"
      ]
    },
    {
      "cell_type": "code",
      "source": [
        "pd.set_option('display.max_columns', 100)"
      ],
      "metadata": {
        "id": "NXqA9vDuXLh5"
      },
      "execution_count": 116,
      "outputs": []
    },
    {
      "cell_type": "code",
      "source": [
        "# Sanity check\n",
        "hospital.head()"
      ],
      "metadata": {
        "id": "ZC0H6TUVVvMS",
        "outputId": "1b104e1c-116a-4536-88d1-66ea86a21af9",
        "colab": {
          "base_uri": "https://localhost:8080/",
          "height": 288
        }
      },
      "execution_count": 117,
      "outputs": [
        {
          "output_type": "execute_result",
          "data": {
            "text/plain": [
              "   los  Age  number_diagnoses  num_lab_procedures  num_procedures  \\\n",
              "0    2   79                 9                  38               0   \n",
              "1    5   59                 8                  49               0   \n",
              "2    2   33                 5                  62               0   \n",
              "3    6   42                 9                  77               0   \n",
              "4    1   62                 7                  13               5   \n",
              "\n",
              "   num_medications  number_emergency  number_inpatient  number_outpatient  \\\n",
              "0               12                 0                 0                  0   \n",
              "1               16                 0                 0                  0   \n",
              "2               15                 1                 0                  1   \n",
              "3               30                 0                 0                  0   \n",
              "4                6                 0                 0                  0   \n",
              "\n",
              "   sex_Female  sex_Male  max_glu_serum_>200  max_glu_serum_>300  \\\n",
              "0           1         0                   0                   0   \n",
              "1           0         1                   0                   0   \n",
              "2           1         0                   0                   0   \n",
              "3           1         0                   0                   0   \n",
              "4           0         1                   0                   0   \n",
              "\n",
              "   max_glu_serum_None  max_glu_serum_Norm  A1Cresult_>7  A1Cresult_>8  \\\n",
              "0                   1                   0             0             0   \n",
              "1                   1                   0             0             1   \n",
              "2                   1                   0             0             0   \n",
              "3                   1                   0             0             0   \n",
              "4                   1                   0             0             0   \n",
              "\n",
              "   A1Cresult_None  A1Cresult_Norm  group_name_1_Blood_&_immune  \\\n",
              "0               1               0                            0   \n",
              "1               0               0                            0   \n",
              "2               1               0                            0   \n",
              "3               1               0                            0   \n",
              "4               1               0                            0   \n",
              "\n",
              "   group_name_1_CNS  group_name_1_Cancer  group_name_1_Cardiac_&_circulatory  \\\n",
              "0                 0                    0                                   0   \n",
              "1                 0                    0                                   0   \n",
              "2                 0                    0                                   0   \n",
              "3                 0                    0                                   0   \n",
              "4                 0                    0                                   1   \n",
              "\n",
              "   group_name_1_Digestive  group_name_1_Endocrine  group_name_1_Infectious  \\\n",
              "0                       0                       0                        0   \n",
              "1                       0                       1                        0   \n",
              "2                       0                       0                        0   \n",
              "3                       0                       0                        1   \n",
              "4                       0                       0                        0   \n",
              "\n",
              "   group_name_1_Mental_&_Substance  group_name_1_Other  \\\n",
              "0                                0                   1   \n",
              "1                                0                   0   \n",
              "2                                0                   1   \n",
              "3                                0                   0   \n",
              "4                                0                   0   \n",
              "\n",
              "   group_name_1_Respiratory  group_name_2_Blood_&_immune  group_name_2_CNS  \\\n",
              "0                         0                            0                 0   \n",
              "1                         0                            0                 0   \n",
              "2                         0                            0                 0   \n",
              "3                         0                            0                 0   \n",
              "4                         0                            0                 0   \n",
              "\n",
              "   group_name_2_Cancer  group_name_2_Cardiac_&_circulatory  \\\n",
              "0                    0                                   0   \n",
              "1                    0                                   1   \n",
              "2                    0                                   0   \n",
              "3                    0                                   0   \n",
              "4                    0                                   1   \n",
              "\n",
              "   group_name_2_Digestive  group_name_2_Endocrine  group_name_2_Infectious  \\\n",
              "0                       0                       1                        0   \n",
              "1                       0                       0                        0   \n",
              "2                       0                       1                        0   \n",
              "3                       0                       0                        0   \n",
              "4                       0                       0                        0   \n",
              "\n",
              "   group_name_2_Mental_&_Substance  group_name_2_Other  \\\n",
              "0                                0                   0   \n",
              "1                                0                   0   \n",
              "2                                0                   0   \n",
              "3                                0                   0   \n",
              "4                                0                   0   \n",
              "\n",
              "   group_name_2_Respiratory  group_name_3_Blood_&_immune  group_name_3_CNS  \\\n",
              "0                         0                            0                 0   \n",
              "1                         0                            0                 0   \n",
              "2                         0                            0                 0   \n",
              "3                         1                            0                 0   \n",
              "4                         0                            0                 0   \n",
              "\n",
              "   group_name_3_Cancer  group_name_3_Cardiac_&_circulatory  \\\n",
              "0                    0                                   0   \n",
              "1                    0                                   0   \n",
              "2                    0                                   1   \n",
              "3                    0                                   0   \n",
              "4                    0                                   1   \n",
              "\n",
              "   group_name_3_Digestive  group_name_3_Endocrine  group_name_3_Infectious  \\\n",
              "0                       0                       0                        1   \n",
              "1                       0                       0                        0   \n",
              "2                       0                       0                        0   \n",
              "3                       0                       1                        0   \n",
              "4                       0                       0                        0   \n",
              "\n",
              "   group_name_3_Mental_&_Substance  group_name_3_Other  \\\n",
              "0                                0                   0   \n",
              "1                                0                   1   \n",
              "2                                0                   0   \n",
              "3                                0                   0   \n",
              "4                                0                   0   \n",
              "\n",
              "   group_name_3_Respiratory  discharge_disposition_grouped_Discharged to home  \\\n",
              "0                         0                                                 0   \n",
              "1                         0                                                 1   \n",
              "2                         0                                                 1   \n",
              "3                         0                                                 0   \n",
              "4                         0                                                 1   \n",
              "\n",
              "   discharge_disposition_grouped_Home health service  \\\n",
              "0                                                  0   \n",
              "1                                                  0   \n",
              "2                                                  0   \n",
              "3                                                  1   \n",
              "4                                                  0   \n",
              "\n",
              "   discharge_disposition_grouped_Left AMA  \\\n",
              "0                                       0   \n",
              "1                                       0   \n",
              "2                                       0   \n",
              "3                                       0   \n",
              "4                                       0   \n",
              "\n",
              "   discharge_disposition_grouped_Not available/Null  \\\n",
              "0                                                 1   \n",
              "1                                                 0   \n",
              "2                                                 0   \n",
              "3                                                 0   \n",
              "4                                                 0   \n",
              "\n",
              "   discharge_disposition_grouped_Other  \\\n",
              "0                                    0   \n",
              "1                                    0   \n",
              "2                                    0   \n",
              "3                                    0   \n",
              "4                                    0   \n",
              "\n",
              "   discharge_disposition_grouped_Short term hospital  \\\n",
              "0                                                  0   \n",
              "1                                                  0   \n",
              "2                                                  0   \n",
              "3                                                  0   \n",
              "4                                                  0   \n",
              "\n",
              "   discharge_disposition_grouped_Transferred to ICF  \\\n",
              "0                                                 0   \n",
              "1                                                 0   \n",
              "2                                                 0   \n",
              "3                                                 0   \n",
              "4                                                 0   \n",
              "\n",
              "   discharge_disposition_grouped_Transferred to SNF  \\\n",
              "0                                                 0   \n",
              "1                                                 0   \n",
              "2                                                 0   \n",
              "3                                                 0   \n",
              "4                                                 0   \n",
              "\n",
              "   admission_source_grouped_Clinic Referral  \\\n",
              "0                                         0   \n",
              "1                                         0   \n",
              "2                                         0   \n",
              "3                                         0   \n",
              "4                                         0   \n",
              "\n",
              "   admission_source_grouped_Emergency Room  \\\n",
              "0                                        1   \n",
              "1                                        1   \n",
              "2                                        1   \n",
              "3                                        1   \n",
              "4                                        1   \n",
              "\n",
              "   admission_source_grouped_Not available/Null  \\\n",
              "0                                            0   \n",
              "1                                            0   \n",
              "2                                            0   \n",
              "3                                            0   \n",
              "4                                            0   \n",
              "\n",
              "   admission_source_grouped_Other  \\\n",
              "0                               0   \n",
              "1                               0   \n",
              "2                               0   \n",
              "3                               0   \n",
              "4                               0   \n",
              "\n",
              "   admission_source_grouped_Physician Referral  \\\n",
              "0                                            0   \n",
              "1                                            0   \n",
              "2                                            0   \n",
              "3                                            0   \n",
              "4                                            0   \n",
              "\n",
              "   admission_source_grouped_Transfer from SNF  \\\n",
              "0                                           0   \n",
              "1                                           0   \n",
              "2                                           0   \n",
              "3                                           0   \n",
              "4                                           0   \n",
              "\n",
              "   admission_source_grouped_Transfer from another health care facility  \\\n",
              "0                                                  0                     \n",
              "1                                                  0                     \n",
              "2                                                  0                     \n",
              "3                                                  0                     \n",
              "4                                                  0                     \n",
              "\n",
              "   admission_type_grouped_Elective  admission_type_grouped_Emergency  \\\n",
              "0                                1                                 0   \n",
              "1                                1                                 0   \n",
              "2                                1                                 0   \n",
              "3                                1                                 0   \n",
              "4                                1                                 0   \n",
              "\n",
              "   admission_type_grouped_Not Available/Null  \\\n",
              "0                                          0   \n",
              "1                                          0   \n",
              "2                                          0   \n",
              "3                                          0   \n",
              "4                                          0   \n",
              "\n",
              "   admission_type_grouped_Trauma Centre  admission_type_grouped_Urgent  \n",
              "0                                     0                              0  \n",
              "1                                     0                              0  \n",
              "2                                     0                              0  \n",
              "3                                     0                              0  \n",
              "4                                     0                              0  "
            ],
            "text/html": [
              "\n",
              "  <div id=\"df-e06b02d0-7b78-4112-9203-6bbff0ae0b1a\">\n",
              "    <div class=\"colab-df-container\">\n",
              "      <div>\n",
              "<style scoped>\n",
              "    .dataframe tbody tr th:only-of-type {\n",
              "        vertical-align: middle;\n",
              "    }\n",
              "\n",
              "    .dataframe tbody tr th {\n",
              "        vertical-align: top;\n",
              "    }\n",
              "\n",
              "    .dataframe thead th {\n",
              "        text-align: right;\n",
              "    }\n",
              "</style>\n",
              "<table border=\"1\" class=\"dataframe\">\n",
              "  <thead>\n",
              "    <tr style=\"text-align: right;\">\n",
              "      <th></th>\n",
              "      <th>los</th>\n",
              "      <th>Age</th>\n",
              "      <th>number_diagnoses</th>\n",
              "      <th>num_lab_procedures</th>\n",
              "      <th>num_procedures</th>\n",
              "      <th>num_medications</th>\n",
              "      <th>number_emergency</th>\n",
              "      <th>number_inpatient</th>\n",
              "      <th>number_outpatient</th>\n",
              "      <th>sex_Female</th>\n",
              "      <th>sex_Male</th>\n",
              "      <th>max_glu_serum_&gt;200</th>\n",
              "      <th>max_glu_serum_&gt;300</th>\n",
              "      <th>max_glu_serum_None</th>\n",
              "      <th>max_glu_serum_Norm</th>\n",
              "      <th>A1Cresult_&gt;7</th>\n",
              "      <th>A1Cresult_&gt;8</th>\n",
              "      <th>A1Cresult_None</th>\n",
              "      <th>A1Cresult_Norm</th>\n",
              "      <th>group_name_1_Blood_&amp;_immune</th>\n",
              "      <th>group_name_1_CNS</th>\n",
              "      <th>group_name_1_Cancer</th>\n",
              "      <th>group_name_1_Cardiac_&amp;_circulatory</th>\n",
              "      <th>group_name_1_Digestive</th>\n",
              "      <th>group_name_1_Endocrine</th>\n",
              "      <th>group_name_1_Infectious</th>\n",
              "      <th>group_name_1_Mental_&amp;_Substance</th>\n",
              "      <th>group_name_1_Other</th>\n",
              "      <th>group_name_1_Respiratory</th>\n",
              "      <th>group_name_2_Blood_&amp;_immune</th>\n",
              "      <th>group_name_2_CNS</th>\n",
              "      <th>group_name_2_Cancer</th>\n",
              "      <th>group_name_2_Cardiac_&amp;_circulatory</th>\n",
              "      <th>group_name_2_Digestive</th>\n",
              "      <th>group_name_2_Endocrine</th>\n",
              "      <th>group_name_2_Infectious</th>\n",
              "      <th>group_name_2_Mental_&amp;_Substance</th>\n",
              "      <th>group_name_2_Other</th>\n",
              "      <th>group_name_2_Respiratory</th>\n",
              "      <th>group_name_3_Blood_&amp;_immune</th>\n",
              "      <th>group_name_3_CNS</th>\n",
              "      <th>group_name_3_Cancer</th>\n",
              "      <th>group_name_3_Cardiac_&amp;_circulatory</th>\n",
              "      <th>group_name_3_Digestive</th>\n",
              "      <th>group_name_3_Endocrine</th>\n",
              "      <th>group_name_3_Infectious</th>\n",
              "      <th>group_name_3_Mental_&amp;_Substance</th>\n",
              "      <th>group_name_3_Other</th>\n",
              "      <th>group_name_3_Respiratory</th>\n",
              "      <th>discharge_disposition_grouped_Discharged to home</th>\n",
              "      <th>discharge_disposition_grouped_Home health service</th>\n",
              "      <th>discharge_disposition_grouped_Left AMA</th>\n",
              "      <th>discharge_disposition_grouped_Not available/Null</th>\n",
              "      <th>discharge_disposition_grouped_Other</th>\n",
              "      <th>discharge_disposition_grouped_Short term hospital</th>\n",
              "      <th>discharge_disposition_grouped_Transferred to ICF</th>\n",
              "      <th>discharge_disposition_grouped_Transferred to SNF</th>\n",
              "      <th>admission_source_grouped_Clinic Referral</th>\n",
              "      <th>admission_source_grouped_Emergency Room</th>\n",
              "      <th>admission_source_grouped_Not available/Null</th>\n",
              "      <th>admission_source_grouped_Other</th>\n",
              "      <th>admission_source_grouped_Physician Referral</th>\n",
              "      <th>admission_source_grouped_Transfer from SNF</th>\n",
              "      <th>admission_source_grouped_Transfer from another health care facility</th>\n",
              "      <th>admission_type_grouped_Elective</th>\n",
              "      <th>admission_type_grouped_Emergency</th>\n",
              "      <th>admission_type_grouped_Not Available/Null</th>\n",
              "      <th>admission_type_grouped_Trauma Centre</th>\n",
              "      <th>admission_type_grouped_Urgent</th>\n",
              "    </tr>\n",
              "  </thead>\n",
              "  <tbody>\n",
              "    <tr>\n",
              "      <th>0</th>\n",
              "      <td>2</td>\n",
              "      <td>79</td>\n",
              "      <td>9</td>\n",
              "      <td>38</td>\n",
              "      <td>0</td>\n",
              "      <td>12</td>\n",
              "      <td>0</td>\n",
              "      <td>0</td>\n",
              "      <td>0</td>\n",
              "      <td>1</td>\n",
              "      <td>0</td>\n",
              "      <td>0</td>\n",
              "      <td>0</td>\n",
              "      <td>1</td>\n",
              "      <td>0</td>\n",
              "      <td>0</td>\n",
              "      <td>0</td>\n",
              "      <td>1</td>\n",
              "      <td>0</td>\n",
              "      <td>0</td>\n",
              "      <td>0</td>\n",
              "      <td>0</td>\n",
              "      <td>0</td>\n",
              "      <td>0</td>\n",
              "      <td>0</td>\n",
              "      <td>0</td>\n",
              "      <td>0</td>\n",
              "      <td>1</td>\n",
              "      <td>0</td>\n",
              "      <td>0</td>\n",
              "      <td>0</td>\n",
              "      <td>0</td>\n",
              "      <td>0</td>\n",
              "      <td>0</td>\n",
              "      <td>1</td>\n",
              "      <td>0</td>\n",
              "      <td>0</td>\n",
              "      <td>0</td>\n",
              "      <td>0</td>\n",
              "      <td>0</td>\n",
              "      <td>0</td>\n",
              "      <td>0</td>\n",
              "      <td>0</td>\n",
              "      <td>0</td>\n",
              "      <td>0</td>\n",
              "      <td>1</td>\n",
              "      <td>0</td>\n",
              "      <td>0</td>\n",
              "      <td>0</td>\n",
              "      <td>0</td>\n",
              "      <td>0</td>\n",
              "      <td>0</td>\n",
              "      <td>1</td>\n",
              "      <td>0</td>\n",
              "      <td>0</td>\n",
              "      <td>0</td>\n",
              "      <td>0</td>\n",
              "      <td>0</td>\n",
              "      <td>1</td>\n",
              "      <td>0</td>\n",
              "      <td>0</td>\n",
              "      <td>0</td>\n",
              "      <td>0</td>\n",
              "      <td>0</td>\n",
              "      <td>1</td>\n",
              "      <td>0</td>\n",
              "      <td>0</td>\n",
              "      <td>0</td>\n",
              "      <td>0</td>\n",
              "    </tr>\n",
              "    <tr>\n",
              "      <th>1</th>\n",
              "      <td>5</td>\n",
              "      <td>59</td>\n",
              "      <td>8</td>\n",
              "      <td>49</td>\n",
              "      <td>0</td>\n",
              "      <td>16</td>\n",
              "      <td>0</td>\n",
              "      <td>0</td>\n",
              "      <td>0</td>\n",
              "      <td>0</td>\n",
              "      <td>1</td>\n",
              "      <td>0</td>\n",
              "      <td>0</td>\n",
              "      <td>1</td>\n",
              "      <td>0</td>\n",
              "      <td>0</td>\n",
              "      <td>1</td>\n",
              "      <td>0</td>\n",
              "      <td>0</td>\n",
              "      <td>0</td>\n",
              "      <td>0</td>\n",
              "      <td>0</td>\n",
              "      <td>0</td>\n",
              "      <td>0</td>\n",
              "      <td>1</td>\n",
              "      <td>0</td>\n",
              "      <td>0</td>\n",
              "      <td>0</td>\n",
              "      <td>0</td>\n",
              "      <td>0</td>\n",
              "      <td>0</td>\n",
              "      <td>0</td>\n",
              "      <td>1</td>\n",
              "      <td>0</td>\n",
              "      <td>0</td>\n",
              "      <td>0</td>\n",
              "      <td>0</td>\n",
              "      <td>0</td>\n",
              "      <td>0</td>\n",
              "      <td>0</td>\n",
              "      <td>0</td>\n",
              "      <td>0</td>\n",
              "      <td>0</td>\n",
              "      <td>0</td>\n",
              "      <td>0</td>\n",
              "      <td>0</td>\n",
              "      <td>0</td>\n",
              "      <td>1</td>\n",
              "      <td>0</td>\n",
              "      <td>1</td>\n",
              "      <td>0</td>\n",
              "      <td>0</td>\n",
              "      <td>0</td>\n",
              "      <td>0</td>\n",
              "      <td>0</td>\n",
              "      <td>0</td>\n",
              "      <td>0</td>\n",
              "      <td>0</td>\n",
              "      <td>1</td>\n",
              "      <td>0</td>\n",
              "      <td>0</td>\n",
              "      <td>0</td>\n",
              "      <td>0</td>\n",
              "      <td>0</td>\n",
              "      <td>1</td>\n",
              "      <td>0</td>\n",
              "      <td>0</td>\n",
              "      <td>0</td>\n",
              "      <td>0</td>\n",
              "    </tr>\n",
              "    <tr>\n",
              "      <th>2</th>\n",
              "      <td>2</td>\n",
              "      <td>33</td>\n",
              "      <td>5</td>\n",
              "      <td>62</td>\n",
              "      <td>0</td>\n",
              "      <td>15</td>\n",
              "      <td>1</td>\n",
              "      <td>0</td>\n",
              "      <td>1</td>\n",
              "      <td>1</td>\n",
              "      <td>0</td>\n",
              "      <td>0</td>\n",
              "      <td>0</td>\n",
              "      <td>1</td>\n",
              "      <td>0</td>\n",
              "      <td>0</td>\n",
              "      <td>0</td>\n",
              "      <td>1</td>\n",
              "      <td>0</td>\n",
              "      <td>0</td>\n",
              "      <td>0</td>\n",
              "      <td>0</td>\n",
              "      <td>0</td>\n",
              "      <td>0</td>\n",
              "      <td>0</td>\n",
              "      <td>0</td>\n",
              "      <td>0</td>\n",
              "      <td>1</td>\n",
              "      <td>0</td>\n",
              "      <td>0</td>\n",
              "      <td>0</td>\n",
              "      <td>0</td>\n",
              "      <td>0</td>\n",
              "      <td>0</td>\n",
              "      <td>1</td>\n",
              "      <td>0</td>\n",
              "      <td>0</td>\n",
              "      <td>0</td>\n",
              "      <td>0</td>\n",
              "      <td>0</td>\n",
              "      <td>0</td>\n",
              "      <td>0</td>\n",
              "      <td>1</td>\n",
              "      <td>0</td>\n",
              "      <td>0</td>\n",
              "      <td>0</td>\n",
              "      <td>0</td>\n",
              "      <td>0</td>\n",
              "      <td>0</td>\n",
              "      <td>1</td>\n",
              "      <td>0</td>\n",
              "      <td>0</td>\n",
              "      <td>0</td>\n",
              "      <td>0</td>\n",
              "      <td>0</td>\n",
              "      <td>0</td>\n",
              "      <td>0</td>\n",
              "      <td>0</td>\n",
              "      <td>1</td>\n",
              "      <td>0</td>\n",
              "      <td>0</td>\n",
              "      <td>0</td>\n",
              "      <td>0</td>\n",
              "      <td>0</td>\n",
              "      <td>1</td>\n",
              "      <td>0</td>\n",
              "      <td>0</td>\n",
              "      <td>0</td>\n",
              "      <td>0</td>\n",
              "    </tr>\n",
              "    <tr>\n",
              "      <th>3</th>\n",
              "      <td>6</td>\n",
              "      <td>42</td>\n",
              "      <td>9</td>\n",
              "      <td>77</td>\n",
              "      <td>0</td>\n",
              "      <td>30</td>\n",
              "      <td>0</td>\n",
              "      <td>0</td>\n",
              "      <td>0</td>\n",
              "      <td>1</td>\n",
              "      <td>0</td>\n",
              "      <td>0</td>\n",
              "      <td>0</td>\n",
              "      <td>1</td>\n",
              "      <td>0</td>\n",
              "      <td>0</td>\n",
              "      <td>0</td>\n",
              "      <td>1</td>\n",
              "      <td>0</td>\n",
              "      <td>0</td>\n",
              "      <td>0</td>\n",
              "      <td>0</td>\n",
              "      <td>0</td>\n",
              "      <td>0</td>\n",
              "      <td>0</td>\n",
              "      <td>1</td>\n",
              "      <td>0</td>\n",
              "      <td>0</td>\n",
              "      <td>0</td>\n",
              "      <td>0</td>\n",
              "      <td>0</td>\n",
              "      <td>0</td>\n",
              "      <td>0</td>\n",
              "      <td>0</td>\n",
              "      <td>0</td>\n",
              "      <td>0</td>\n",
              "      <td>0</td>\n",
              "      <td>0</td>\n",
              "      <td>1</td>\n",
              "      <td>0</td>\n",
              "      <td>0</td>\n",
              "      <td>0</td>\n",
              "      <td>0</td>\n",
              "      <td>0</td>\n",
              "      <td>1</td>\n",
              "      <td>0</td>\n",
              "      <td>0</td>\n",
              "      <td>0</td>\n",
              "      <td>0</td>\n",
              "      <td>0</td>\n",
              "      <td>1</td>\n",
              "      <td>0</td>\n",
              "      <td>0</td>\n",
              "      <td>0</td>\n",
              "      <td>0</td>\n",
              "      <td>0</td>\n",
              "      <td>0</td>\n",
              "      <td>0</td>\n",
              "      <td>1</td>\n",
              "      <td>0</td>\n",
              "      <td>0</td>\n",
              "      <td>0</td>\n",
              "      <td>0</td>\n",
              "      <td>0</td>\n",
              "      <td>1</td>\n",
              "      <td>0</td>\n",
              "      <td>0</td>\n",
              "      <td>0</td>\n",
              "      <td>0</td>\n",
              "    </tr>\n",
              "    <tr>\n",
              "      <th>4</th>\n",
              "      <td>1</td>\n",
              "      <td>62</td>\n",
              "      <td>7</td>\n",
              "      <td>13</td>\n",
              "      <td>5</td>\n",
              "      <td>6</td>\n",
              "      <td>0</td>\n",
              "      <td>0</td>\n",
              "      <td>0</td>\n",
              "      <td>0</td>\n",
              "      <td>1</td>\n",
              "      <td>0</td>\n",
              "      <td>0</td>\n",
              "      <td>1</td>\n",
              "      <td>0</td>\n",
              "      <td>0</td>\n",
              "      <td>0</td>\n",
              "      <td>1</td>\n",
              "      <td>0</td>\n",
              "      <td>0</td>\n",
              "      <td>0</td>\n",
              "      <td>0</td>\n",
              "      <td>1</td>\n",
              "      <td>0</td>\n",
              "      <td>0</td>\n",
              "      <td>0</td>\n",
              "      <td>0</td>\n",
              "      <td>0</td>\n",
              "      <td>0</td>\n",
              "      <td>0</td>\n",
              "      <td>0</td>\n",
              "      <td>0</td>\n",
              "      <td>1</td>\n",
              "      <td>0</td>\n",
              "      <td>0</td>\n",
              "      <td>0</td>\n",
              "      <td>0</td>\n",
              "      <td>0</td>\n",
              "      <td>0</td>\n",
              "      <td>0</td>\n",
              "      <td>0</td>\n",
              "      <td>0</td>\n",
              "      <td>1</td>\n",
              "      <td>0</td>\n",
              "      <td>0</td>\n",
              "      <td>0</td>\n",
              "      <td>0</td>\n",
              "      <td>0</td>\n",
              "      <td>0</td>\n",
              "      <td>1</td>\n",
              "      <td>0</td>\n",
              "      <td>0</td>\n",
              "      <td>0</td>\n",
              "      <td>0</td>\n",
              "      <td>0</td>\n",
              "      <td>0</td>\n",
              "      <td>0</td>\n",
              "      <td>0</td>\n",
              "      <td>1</td>\n",
              "      <td>0</td>\n",
              "      <td>0</td>\n",
              "      <td>0</td>\n",
              "      <td>0</td>\n",
              "      <td>0</td>\n",
              "      <td>1</td>\n",
              "      <td>0</td>\n",
              "      <td>0</td>\n",
              "      <td>0</td>\n",
              "      <td>0</td>\n",
              "    </tr>\n",
              "  </tbody>\n",
              "</table>\n",
              "</div>\n",
              "      <button class=\"colab-df-convert\" onclick=\"convertToInteractive('df-e06b02d0-7b78-4112-9203-6bbff0ae0b1a')\"\n",
              "              title=\"Convert this dataframe to an interactive table.\"\n",
              "              style=\"display:none;\">\n",
              "        \n",
              "  <svg xmlns=\"http://www.w3.org/2000/svg\" height=\"24px\"viewBox=\"0 0 24 24\"\n",
              "       width=\"24px\">\n",
              "    <path d=\"M0 0h24v24H0V0z\" fill=\"none\"/>\n",
              "    <path d=\"M18.56 5.44l.94 2.06.94-2.06 2.06-.94-2.06-.94-.94-2.06-.94 2.06-2.06.94zm-11 1L8.5 8.5l.94-2.06 2.06-.94-2.06-.94L8.5 2.5l-.94 2.06-2.06.94zm10 10l.94 2.06.94-2.06 2.06-.94-2.06-.94-.94-2.06-.94 2.06-2.06.94z\"/><path d=\"M17.41 7.96l-1.37-1.37c-.4-.4-.92-.59-1.43-.59-.52 0-1.04.2-1.43.59L10.3 9.45l-7.72 7.72c-.78.78-.78 2.05 0 2.83L4 21.41c.39.39.9.59 1.41.59.51 0 1.02-.2 1.41-.59l7.78-7.78 2.81-2.81c.8-.78.8-2.07 0-2.86zM5.41 20L4 18.59l7.72-7.72 1.47 1.35L5.41 20z\"/>\n",
              "  </svg>\n",
              "      </button>\n",
              "      \n",
              "  <style>\n",
              "    .colab-df-container {\n",
              "      display:flex;\n",
              "      flex-wrap:wrap;\n",
              "      gap: 12px;\n",
              "    }\n",
              "\n",
              "    .colab-df-convert {\n",
              "      background-color: #E8F0FE;\n",
              "      border: none;\n",
              "      border-radius: 50%;\n",
              "      cursor: pointer;\n",
              "      display: none;\n",
              "      fill: #1967D2;\n",
              "      height: 32px;\n",
              "      padding: 0 0 0 0;\n",
              "      width: 32px;\n",
              "    }\n",
              "\n",
              "    .colab-df-convert:hover {\n",
              "      background-color: #E2EBFA;\n",
              "      box-shadow: 0px 1px 2px rgba(60, 64, 67, 0.3), 0px 1px 3px 1px rgba(60, 64, 67, 0.15);\n",
              "      fill: #174EA6;\n",
              "    }\n",
              "\n",
              "    [theme=dark] .colab-df-convert {\n",
              "      background-color: #3B4455;\n",
              "      fill: #D2E3FC;\n",
              "    }\n",
              "\n",
              "    [theme=dark] .colab-df-convert:hover {\n",
              "      background-color: #434B5C;\n",
              "      box-shadow: 0px 1px 3px 1px rgba(0, 0, 0, 0.15);\n",
              "      filter: drop-shadow(0px 1px 2px rgba(0, 0, 0, 0.3));\n",
              "      fill: #FFFFFF;\n",
              "    }\n",
              "  </style>\n",
              "\n",
              "      <script>\n",
              "        const buttonEl =\n",
              "          document.querySelector('#df-e06b02d0-7b78-4112-9203-6bbff0ae0b1a button.colab-df-convert');\n",
              "        buttonEl.style.display =\n",
              "          google.colab.kernel.accessAllowed ? 'block' : 'none';\n",
              "\n",
              "        async function convertToInteractive(key) {\n",
              "          const element = document.querySelector('#df-e06b02d0-7b78-4112-9203-6bbff0ae0b1a');\n",
              "          const dataTable =\n",
              "            await google.colab.kernel.invokeFunction('convertToInteractive',\n",
              "                                                     [key], {});\n",
              "          if (!dataTable) return;\n",
              "\n",
              "          const docLinkHtml = 'Like what you see? Visit the ' +\n",
              "            '<a target=\"_blank\" href=https://colab.research.google.com/notebooks/data_table.ipynb>data table notebook</a>'\n",
              "            + ' to learn more about interactive tables.';\n",
              "          element.innerHTML = '';\n",
              "          dataTable['output_type'] = 'display_data';\n",
              "          await google.colab.output.renderOutput(dataTable, element);\n",
              "          const docLink = document.createElement('div');\n",
              "          docLink.innerHTML = docLinkHtml;\n",
              "          element.appendChild(docLink);\n",
              "        }\n",
              "      </script>\n",
              "    </div>\n",
              "  </div>\n",
              "  "
            ]
          },
          "metadata": {},
          "execution_count": 117
        }
      ]
    },
    {
      "cell_type": "markdown",
      "source": [
        "As we dropped the column readmission  (when we used pd.get_dummies or sklearn.preprocessing.OneHotEncoder in question 1), we need to add it again."
      ],
      "metadata": {
        "id": "SNPK0WtqYAax"
      }
    },
    {
      "cell_type": "code",
      "source": [
        "hospital['readmission']=readmission"
      ],
      "metadata": {
        "id": "-vdOMWybVoy8"
      },
      "execution_count": 118,
      "outputs": []
    },
    {
      "cell_type": "code",
      "source": [
        "# Sanity check\n",
        "hospital.head()"
      ],
      "metadata": {
        "id": "ukhbC5xIXz_D",
        "outputId": "5f4ab64c-00d4-40ad-f51f-21be03c757a5",
        "colab": {
          "base_uri": "https://localhost:8080/",
          "height": 288
        }
      },
      "execution_count": 119,
      "outputs": [
        {
          "output_type": "execute_result",
          "data": {
            "text/plain": [
              "   los  Age  number_diagnoses  num_lab_procedures  num_procedures  \\\n",
              "0    2   79                 9                  38               0   \n",
              "1    5   59                 8                  49               0   \n",
              "2    2   33                 5                  62               0   \n",
              "3    6   42                 9                  77               0   \n",
              "4    1   62                 7                  13               5   \n",
              "\n",
              "   num_medications  number_emergency  number_inpatient  number_outpatient  \\\n",
              "0               12                 0                 0                  0   \n",
              "1               16                 0                 0                  0   \n",
              "2               15                 1                 0                  1   \n",
              "3               30                 0                 0                  0   \n",
              "4                6                 0                 0                  0   \n",
              "\n",
              "   sex_Female  sex_Male  max_glu_serum_>200  max_glu_serum_>300  \\\n",
              "0           1         0                   0                   0   \n",
              "1           0         1                   0                   0   \n",
              "2           1         0                   0                   0   \n",
              "3           1         0                   0                   0   \n",
              "4           0         1                   0                   0   \n",
              "\n",
              "   max_glu_serum_None  max_glu_serum_Norm  A1Cresult_>7  A1Cresult_>8  \\\n",
              "0                   1                   0             0             0   \n",
              "1                   1                   0             0             1   \n",
              "2                   1                   0             0             0   \n",
              "3                   1                   0             0             0   \n",
              "4                   1                   0             0             0   \n",
              "\n",
              "   A1Cresult_None  A1Cresult_Norm  group_name_1_Blood_&_immune  \\\n",
              "0               1               0                            0   \n",
              "1               0               0                            0   \n",
              "2               1               0                            0   \n",
              "3               1               0                            0   \n",
              "4               1               0                            0   \n",
              "\n",
              "   group_name_1_CNS  group_name_1_Cancer  group_name_1_Cardiac_&_circulatory  \\\n",
              "0                 0                    0                                   0   \n",
              "1                 0                    0                                   0   \n",
              "2                 0                    0                                   0   \n",
              "3                 0                    0                                   0   \n",
              "4                 0                    0                                   1   \n",
              "\n",
              "   group_name_1_Digestive  group_name_1_Endocrine  group_name_1_Infectious  \\\n",
              "0                       0                       0                        0   \n",
              "1                       0                       1                        0   \n",
              "2                       0                       0                        0   \n",
              "3                       0                       0                        1   \n",
              "4                       0                       0                        0   \n",
              "\n",
              "   group_name_1_Mental_&_Substance  group_name_1_Other  \\\n",
              "0                                0                   1   \n",
              "1                                0                   0   \n",
              "2                                0                   1   \n",
              "3                                0                   0   \n",
              "4                                0                   0   \n",
              "\n",
              "   group_name_1_Respiratory  group_name_2_Blood_&_immune  group_name_2_CNS  \\\n",
              "0                         0                            0                 0   \n",
              "1                         0                            0                 0   \n",
              "2                         0                            0                 0   \n",
              "3                         0                            0                 0   \n",
              "4                         0                            0                 0   \n",
              "\n",
              "   group_name_2_Cancer  group_name_2_Cardiac_&_circulatory  \\\n",
              "0                    0                                   0   \n",
              "1                    0                                   1   \n",
              "2                    0                                   0   \n",
              "3                    0                                   0   \n",
              "4                    0                                   1   \n",
              "\n",
              "   group_name_2_Digestive  group_name_2_Endocrine  group_name_2_Infectious  \\\n",
              "0                       0                       1                        0   \n",
              "1                       0                       0                        0   \n",
              "2                       0                       1                        0   \n",
              "3                       0                       0                        0   \n",
              "4                       0                       0                        0   \n",
              "\n",
              "   group_name_2_Mental_&_Substance  group_name_2_Other  \\\n",
              "0                                0                   0   \n",
              "1                                0                   0   \n",
              "2                                0                   0   \n",
              "3                                0                   0   \n",
              "4                                0                   0   \n",
              "\n",
              "   group_name_2_Respiratory  group_name_3_Blood_&_immune  group_name_3_CNS  \\\n",
              "0                         0                            0                 0   \n",
              "1                         0                            0                 0   \n",
              "2                         0                            0                 0   \n",
              "3                         1                            0                 0   \n",
              "4                         0                            0                 0   \n",
              "\n",
              "   group_name_3_Cancer  group_name_3_Cardiac_&_circulatory  \\\n",
              "0                    0                                   0   \n",
              "1                    0                                   0   \n",
              "2                    0                                   1   \n",
              "3                    0                                   0   \n",
              "4                    0                                   1   \n",
              "\n",
              "   group_name_3_Digestive  group_name_3_Endocrine  group_name_3_Infectious  \\\n",
              "0                       0                       0                        1   \n",
              "1                       0                       0                        0   \n",
              "2                       0                       0                        0   \n",
              "3                       0                       1                        0   \n",
              "4                       0                       0                        0   \n",
              "\n",
              "   group_name_3_Mental_&_Substance  group_name_3_Other  \\\n",
              "0                                0                   0   \n",
              "1                                0                   1   \n",
              "2                                0                   0   \n",
              "3                                0                   0   \n",
              "4                                0                   0   \n",
              "\n",
              "   group_name_3_Respiratory  discharge_disposition_grouped_Discharged to home  \\\n",
              "0                         0                                                 0   \n",
              "1                         0                                                 1   \n",
              "2                         0                                                 1   \n",
              "3                         0                                                 0   \n",
              "4                         0                                                 1   \n",
              "\n",
              "   discharge_disposition_grouped_Home health service  \\\n",
              "0                                                  0   \n",
              "1                                                  0   \n",
              "2                                                  0   \n",
              "3                                                  1   \n",
              "4                                                  0   \n",
              "\n",
              "   discharge_disposition_grouped_Left AMA  \\\n",
              "0                                       0   \n",
              "1                                       0   \n",
              "2                                       0   \n",
              "3                                       0   \n",
              "4                                       0   \n",
              "\n",
              "   discharge_disposition_grouped_Not available/Null  \\\n",
              "0                                                 1   \n",
              "1                                                 0   \n",
              "2                                                 0   \n",
              "3                                                 0   \n",
              "4                                                 0   \n",
              "\n",
              "   discharge_disposition_grouped_Other  \\\n",
              "0                                    0   \n",
              "1                                    0   \n",
              "2                                    0   \n",
              "3                                    0   \n",
              "4                                    0   \n",
              "\n",
              "   discharge_disposition_grouped_Short term hospital  \\\n",
              "0                                                  0   \n",
              "1                                                  0   \n",
              "2                                                  0   \n",
              "3                                                  0   \n",
              "4                                                  0   \n",
              "\n",
              "   discharge_disposition_grouped_Transferred to ICF  \\\n",
              "0                                                 0   \n",
              "1                                                 0   \n",
              "2                                                 0   \n",
              "3                                                 0   \n",
              "4                                                 0   \n",
              "\n",
              "   discharge_disposition_grouped_Transferred to SNF  \\\n",
              "0                                                 0   \n",
              "1                                                 0   \n",
              "2                                                 0   \n",
              "3                                                 0   \n",
              "4                                                 0   \n",
              "\n",
              "   admission_source_grouped_Clinic Referral  \\\n",
              "0                                         0   \n",
              "1                                         0   \n",
              "2                                         0   \n",
              "3                                         0   \n",
              "4                                         0   \n",
              "\n",
              "   admission_source_grouped_Emergency Room  \\\n",
              "0                                        1   \n",
              "1                                        1   \n",
              "2                                        1   \n",
              "3                                        1   \n",
              "4                                        1   \n",
              "\n",
              "   admission_source_grouped_Not available/Null  \\\n",
              "0                                            0   \n",
              "1                                            0   \n",
              "2                                            0   \n",
              "3                                            0   \n",
              "4                                            0   \n",
              "\n",
              "   admission_source_grouped_Other  \\\n",
              "0                               0   \n",
              "1                               0   \n",
              "2                               0   \n",
              "3                               0   \n",
              "4                               0   \n",
              "\n",
              "   admission_source_grouped_Physician Referral  \\\n",
              "0                                            0   \n",
              "1                                            0   \n",
              "2                                            0   \n",
              "3                                            0   \n",
              "4                                            0   \n",
              "\n",
              "   admission_source_grouped_Transfer from SNF  \\\n",
              "0                                           0   \n",
              "1                                           0   \n",
              "2                                           0   \n",
              "3                                           0   \n",
              "4                                           0   \n",
              "\n",
              "   admission_source_grouped_Transfer from another health care facility  \\\n",
              "0                                                  0                     \n",
              "1                                                  0                     \n",
              "2                                                  0                     \n",
              "3                                                  0                     \n",
              "4                                                  0                     \n",
              "\n",
              "   admission_type_grouped_Elective  admission_type_grouped_Emergency  \\\n",
              "0                                1                                 0   \n",
              "1                                1                                 0   \n",
              "2                                1                                 0   \n",
              "3                                1                                 0   \n",
              "4                                1                                 0   \n",
              "\n",
              "   admission_type_grouped_Not Available/Null  \\\n",
              "0                                          0   \n",
              "1                                          0   \n",
              "2                                          0   \n",
              "3                                          0   \n",
              "4                                          0   \n",
              "\n",
              "   admission_type_grouped_Trauma Centre  admission_type_grouped_Urgent  \\\n",
              "0                                     0                              0   \n",
              "1                                     0                              0   \n",
              "2                                     0                              0   \n",
              "3                                     0                              0   \n",
              "4                                     0                              0   \n",
              "\n",
              "  readmission  \n",
              "0          no  \n",
              "1          no  \n",
              "2          no  \n",
              "3          no  \n",
              "4          no  "
            ],
            "text/html": [
              "\n",
              "  <div id=\"df-91bc2093-9df5-4510-9ab1-91b43a247416\">\n",
              "    <div class=\"colab-df-container\">\n",
              "      <div>\n",
              "<style scoped>\n",
              "    .dataframe tbody tr th:only-of-type {\n",
              "        vertical-align: middle;\n",
              "    }\n",
              "\n",
              "    .dataframe tbody tr th {\n",
              "        vertical-align: top;\n",
              "    }\n",
              "\n",
              "    .dataframe thead th {\n",
              "        text-align: right;\n",
              "    }\n",
              "</style>\n",
              "<table border=\"1\" class=\"dataframe\">\n",
              "  <thead>\n",
              "    <tr style=\"text-align: right;\">\n",
              "      <th></th>\n",
              "      <th>los</th>\n",
              "      <th>Age</th>\n",
              "      <th>number_diagnoses</th>\n",
              "      <th>num_lab_procedures</th>\n",
              "      <th>num_procedures</th>\n",
              "      <th>num_medications</th>\n",
              "      <th>number_emergency</th>\n",
              "      <th>number_inpatient</th>\n",
              "      <th>number_outpatient</th>\n",
              "      <th>sex_Female</th>\n",
              "      <th>sex_Male</th>\n",
              "      <th>max_glu_serum_&gt;200</th>\n",
              "      <th>max_glu_serum_&gt;300</th>\n",
              "      <th>max_glu_serum_None</th>\n",
              "      <th>max_glu_serum_Norm</th>\n",
              "      <th>A1Cresult_&gt;7</th>\n",
              "      <th>A1Cresult_&gt;8</th>\n",
              "      <th>A1Cresult_None</th>\n",
              "      <th>A1Cresult_Norm</th>\n",
              "      <th>group_name_1_Blood_&amp;_immune</th>\n",
              "      <th>group_name_1_CNS</th>\n",
              "      <th>group_name_1_Cancer</th>\n",
              "      <th>group_name_1_Cardiac_&amp;_circulatory</th>\n",
              "      <th>group_name_1_Digestive</th>\n",
              "      <th>group_name_1_Endocrine</th>\n",
              "      <th>group_name_1_Infectious</th>\n",
              "      <th>group_name_1_Mental_&amp;_Substance</th>\n",
              "      <th>group_name_1_Other</th>\n",
              "      <th>group_name_1_Respiratory</th>\n",
              "      <th>group_name_2_Blood_&amp;_immune</th>\n",
              "      <th>group_name_2_CNS</th>\n",
              "      <th>group_name_2_Cancer</th>\n",
              "      <th>group_name_2_Cardiac_&amp;_circulatory</th>\n",
              "      <th>group_name_2_Digestive</th>\n",
              "      <th>group_name_2_Endocrine</th>\n",
              "      <th>group_name_2_Infectious</th>\n",
              "      <th>group_name_2_Mental_&amp;_Substance</th>\n",
              "      <th>group_name_2_Other</th>\n",
              "      <th>group_name_2_Respiratory</th>\n",
              "      <th>group_name_3_Blood_&amp;_immune</th>\n",
              "      <th>group_name_3_CNS</th>\n",
              "      <th>group_name_3_Cancer</th>\n",
              "      <th>group_name_3_Cardiac_&amp;_circulatory</th>\n",
              "      <th>group_name_3_Digestive</th>\n",
              "      <th>group_name_3_Endocrine</th>\n",
              "      <th>group_name_3_Infectious</th>\n",
              "      <th>group_name_3_Mental_&amp;_Substance</th>\n",
              "      <th>group_name_3_Other</th>\n",
              "      <th>group_name_3_Respiratory</th>\n",
              "      <th>discharge_disposition_grouped_Discharged to home</th>\n",
              "      <th>discharge_disposition_grouped_Home health service</th>\n",
              "      <th>discharge_disposition_grouped_Left AMA</th>\n",
              "      <th>discharge_disposition_grouped_Not available/Null</th>\n",
              "      <th>discharge_disposition_grouped_Other</th>\n",
              "      <th>discharge_disposition_grouped_Short term hospital</th>\n",
              "      <th>discharge_disposition_grouped_Transferred to ICF</th>\n",
              "      <th>discharge_disposition_grouped_Transferred to SNF</th>\n",
              "      <th>admission_source_grouped_Clinic Referral</th>\n",
              "      <th>admission_source_grouped_Emergency Room</th>\n",
              "      <th>admission_source_grouped_Not available/Null</th>\n",
              "      <th>admission_source_grouped_Other</th>\n",
              "      <th>admission_source_grouped_Physician Referral</th>\n",
              "      <th>admission_source_grouped_Transfer from SNF</th>\n",
              "      <th>admission_source_grouped_Transfer from another health care facility</th>\n",
              "      <th>admission_type_grouped_Elective</th>\n",
              "      <th>admission_type_grouped_Emergency</th>\n",
              "      <th>admission_type_grouped_Not Available/Null</th>\n",
              "      <th>admission_type_grouped_Trauma Centre</th>\n",
              "      <th>admission_type_grouped_Urgent</th>\n",
              "      <th>readmission</th>\n",
              "    </tr>\n",
              "  </thead>\n",
              "  <tbody>\n",
              "    <tr>\n",
              "      <th>0</th>\n",
              "      <td>2</td>\n",
              "      <td>79</td>\n",
              "      <td>9</td>\n",
              "      <td>38</td>\n",
              "      <td>0</td>\n",
              "      <td>12</td>\n",
              "      <td>0</td>\n",
              "      <td>0</td>\n",
              "      <td>0</td>\n",
              "      <td>1</td>\n",
              "      <td>0</td>\n",
              "      <td>0</td>\n",
              "      <td>0</td>\n",
              "      <td>1</td>\n",
              "      <td>0</td>\n",
              "      <td>0</td>\n",
              "      <td>0</td>\n",
              "      <td>1</td>\n",
              "      <td>0</td>\n",
              "      <td>0</td>\n",
              "      <td>0</td>\n",
              "      <td>0</td>\n",
              "      <td>0</td>\n",
              "      <td>0</td>\n",
              "      <td>0</td>\n",
              "      <td>0</td>\n",
              "      <td>0</td>\n",
              "      <td>1</td>\n",
              "      <td>0</td>\n",
              "      <td>0</td>\n",
              "      <td>0</td>\n",
              "      <td>0</td>\n",
              "      <td>0</td>\n",
              "      <td>0</td>\n",
              "      <td>1</td>\n",
              "      <td>0</td>\n",
              "      <td>0</td>\n",
              "      <td>0</td>\n",
              "      <td>0</td>\n",
              "      <td>0</td>\n",
              "      <td>0</td>\n",
              "      <td>0</td>\n",
              "      <td>0</td>\n",
              "      <td>0</td>\n",
              "      <td>0</td>\n",
              "      <td>1</td>\n",
              "      <td>0</td>\n",
              "      <td>0</td>\n",
              "      <td>0</td>\n",
              "      <td>0</td>\n",
              "      <td>0</td>\n",
              "      <td>0</td>\n",
              "      <td>1</td>\n",
              "      <td>0</td>\n",
              "      <td>0</td>\n",
              "      <td>0</td>\n",
              "      <td>0</td>\n",
              "      <td>0</td>\n",
              "      <td>1</td>\n",
              "      <td>0</td>\n",
              "      <td>0</td>\n",
              "      <td>0</td>\n",
              "      <td>0</td>\n",
              "      <td>0</td>\n",
              "      <td>1</td>\n",
              "      <td>0</td>\n",
              "      <td>0</td>\n",
              "      <td>0</td>\n",
              "      <td>0</td>\n",
              "      <td>no</td>\n",
              "    </tr>\n",
              "    <tr>\n",
              "      <th>1</th>\n",
              "      <td>5</td>\n",
              "      <td>59</td>\n",
              "      <td>8</td>\n",
              "      <td>49</td>\n",
              "      <td>0</td>\n",
              "      <td>16</td>\n",
              "      <td>0</td>\n",
              "      <td>0</td>\n",
              "      <td>0</td>\n",
              "      <td>0</td>\n",
              "      <td>1</td>\n",
              "      <td>0</td>\n",
              "      <td>0</td>\n",
              "      <td>1</td>\n",
              "      <td>0</td>\n",
              "      <td>0</td>\n",
              "      <td>1</td>\n",
              "      <td>0</td>\n",
              "      <td>0</td>\n",
              "      <td>0</td>\n",
              "      <td>0</td>\n",
              "      <td>0</td>\n",
              "      <td>0</td>\n",
              "      <td>0</td>\n",
              "      <td>1</td>\n",
              "      <td>0</td>\n",
              "      <td>0</td>\n",
              "      <td>0</td>\n",
              "      <td>0</td>\n",
              "      <td>0</td>\n",
              "      <td>0</td>\n",
              "      <td>0</td>\n",
              "      <td>1</td>\n",
              "      <td>0</td>\n",
              "      <td>0</td>\n",
              "      <td>0</td>\n",
              "      <td>0</td>\n",
              "      <td>0</td>\n",
              "      <td>0</td>\n",
              "      <td>0</td>\n",
              "      <td>0</td>\n",
              "      <td>0</td>\n",
              "      <td>0</td>\n",
              "      <td>0</td>\n",
              "      <td>0</td>\n",
              "      <td>0</td>\n",
              "      <td>0</td>\n",
              "      <td>1</td>\n",
              "      <td>0</td>\n",
              "      <td>1</td>\n",
              "      <td>0</td>\n",
              "      <td>0</td>\n",
              "      <td>0</td>\n",
              "      <td>0</td>\n",
              "      <td>0</td>\n",
              "      <td>0</td>\n",
              "      <td>0</td>\n",
              "      <td>0</td>\n",
              "      <td>1</td>\n",
              "      <td>0</td>\n",
              "      <td>0</td>\n",
              "      <td>0</td>\n",
              "      <td>0</td>\n",
              "      <td>0</td>\n",
              "      <td>1</td>\n",
              "      <td>0</td>\n",
              "      <td>0</td>\n",
              "      <td>0</td>\n",
              "      <td>0</td>\n",
              "      <td>no</td>\n",
              "    </tr>\n",
              "    <tr>\n",
              "      <th>2</th>\n",
              "      <td>2</td>\n",
              "      <td>33</td>\n",
              "      <td>5</td>\n",
              "      <td>62</td>\n",
              "      <td>0</td>\n",
              "      <td>15</td>\n",
              "      <td>1</td>\n",
              "      <td>0</td>\n",
              "      <td>1</td>\n",
              "      <td>1</td>\n",
              "      <td>0</td>\n",
              "      <td>0</td>\n",
              "      <td>0</td>\n",
              "      <td>1</td>\n",
              "      <td>0</td>\n",
              "      <td>0</td>\n",
              "      <td>0</td>\n",
              "      <td>1</td>\n",
              "      <td>0</td>\n",
              "      <td>0</td>\n",
              "      <td>0</td>\n",
              "      <td>0</td>\n",
              "      <td>0</td>\n",
              "      <td>0</td>\n",
              "      <td>0</td>\n",
              "      <td>0</td>\n",
              "      <td>0</td>\n",
              "      <td>1</td>\n",
              "      <td>0</td>\n",
              "      <td>0</td>\n",
              "      <td>0</td>\n",
              "      <td>0</td>\n",
              "      <td>0</td>\n",
              "      <td>0</td>\n",
              "      <td>1</td>\n",
              "      <td>0</td>\n",
              "      <td>0</td>\n",
              "      <td>0</td>\n",
              "      <td>0</td>\n",
              "      <td>0</td>\n",
              "      <td>0</td>\n",
              "      <td>0</td>\n",
              "      <td>1</td>\n",
              "      <td>0</td>\n",
              "      <td>0</td>\n",
              "      <td>0</td>\n",
              "      <td>0</td>\n",
              "      <td>0</td>\n",
              "      <td>0</td>\n",
              "      <td>1</td>\n",
              "      <td>0</td>\n",
              "      <td>0</td>\n",
              "      <td>0</td>\n",
              "      <td>0</td>\n",
              "      <td>0</td>\n",
              "      <td>0</td>\n",
              "      <td>0</td>\n",
              "      <td>0</td>\n",
              "      <td>1</td>\n",
              "      <td>0</td>\n",
              "      <td>0</td>\n",
              "      <td>0</td>\n",
              "      <td>0</td>\n",
              "      <td>0</td>\n",
              "      <td>1</td>\n",
              "      <td>0</td>\n",
              "      <td>0</td>\n",
              "      <td>0</td>\n",
              "      <td>0</td>\n",
              "      <td>no</td>\n",
              "    </tr>\n",
              "    <tr>\n",
              "      <th>3</th>\n",
              "      <td>6</td>\n",
              "      <td>42</td>\n",
              "      <td>9</td>\n",
              "      <td>77</td>\n",
              "      <td>0</td>\n",
              "      <td>30</td>\n",
              "      <td>0</td>\n",
              "      <td>0</td>\n",
              "      <td>0</td>\n",
              "      <td>1</td>\n",
              "      <td>0</td>\n",
              "      <td>0</td>\n",
              "      <td>0</td>\n",
              "      <td>1</td>\n",
              "      <td>0</td>\n",
              "      <td>0</td>\n",
              "      <td>0</td>\n",
              "      <td>1</td>\n",
              "      <td>0</td>\n",
              "      <td>0</td>\n",
              "      <td>0</td>\n",
              "      <td>0</td>\n",
              "      <td>0</td>\n",
              "      <td>0</td>\n",
              "      <td>0</td>\n",
              "      <td>1</td>\n",
              "      <td>0</td>\n",
              "      <td>0</td>\n",
              "      <td>0</td>\n",
              "      <td>0</td>\n",
              "      <td>0</td>\n",
              "      <td>0</td>\n",
              "      <td>0</td>\n",
              "      <td>0</td>\n",
              "      <td>0</td>\n",
              "      <td>0</td>\n",
              "      <td>0</td>\n",
              "      <td>0</td>\n",
              "      <td>1</td>\n",
              "      <td>0</td>\n",
              "      <td>0</td>\n",
              "      <td>0</td>\n",
              "      <td>0</td>\n",
              "      <td>0</td>\n",
              "      <td>1</td>\n",
              "      <td>0</td>\n",
              "      <td>0</td>\n",
              "      <td>0</td>\n",
              "      <td>0</td>\n",
              "      <td>0</td>\n",
              "      <td>1</td>\n",
              "      <td>0</td>\n",
              "      <td>0</td>\n",
              "      <td>0</td>\n",
              "      <td>0</td>\n",
              "      <td>0</td>\n",
              "      <td>0</td>\n",
              "      <td>0</td>\n",
              "      <td>1</td>\n",
              "      <td>0</td>\n",
              "      <td>0</td>\n",
              "      <td>0</td>\n",
              "      <td>0</td>\n",
              "      <td>0</td>\n",
              "      <td>1</td>\n",
              "      <td>0</td>\n",
              "      <td>0</td>\n",
              "      <td>0</td>\n",
              "      <td>0</td>\n",
              "      <td>no</td>\n",
              "    </tr>\n",
              "    <tr>\n",
              "      <th>4</th>\n",
              "      <td>1</td>\n",
              "      <td>62</td>\n",
              "      <td>7</td>\n",
              "      <td>13</td>\n",
              "      <td>5</td>\n",
              "      <td>6</td>\n",
              "      <td>0</td>\n",
              "      <td>0</td>\n",
              "      <td>0</td>\n",
              "      <td>0</td>\n",
              "      <td>1</td>\n",
              "      <td>0</td>\n",
              "      <td>0</td>\n",
              "      <td>1</td>\n",
              "      <td>0</td>\n",
              "      <td>0</td>\n",
              "      <td>0</td>\n",
              "      <td>1</td>\n",
              "      <td>0</td>\n",
              "      <td>0</td>\n",
              "      <td>0</td>\n",
              "      <td>0</td>\n",
              "      <td>1</td>\n",
              "      <td>0</td>\n",
              "      <td>0</td>\n",
              "      <td>0</td>\n",
              "      <td>0</td>\n",
              "      <td>0</td>\n",
              "      <td>0</td>\n",
              "      <td>0</td>\n",
              "      <td>0</td>\n",
              "      <td>0</td>\n",
              "      <td>1</td>\n",
              "      <td>0</td>\n",
              "      <td>0</td>\n",
              "      <td>0</td>\n",
              "      <td>0</td>\n",
              "      <td>0</td>\n",
              "      <td>0</td>\n",
              "      <td>0</td>\n",
              "      <td>0</td>\n",
              "      <td>0</td>\n",
              "      <td>1</td>\n",
              "      <td>0</td>\n",
              "      <td>0</td>\n",
              "      <td>0</td>\n",
              "      <td>0</td>\n",
              "      <td>0</td>\n",
              "      <td>0</td>\n",
              "      <td>1</td>\n",
              "      <td>0</td>\n",
              "      <td>0</td>\n",
              "      <td>0</td>\n",
              "      <td>0</td>\n",
              "      <td>0</td>\n",
              "      <td>0</td>\n",
              "      <td>0</td>\n",
              "      <td>0</td>\n",
              "      <td>1</td>\n",
              "      <td>0</td>\n",
              "      <td>0</td>\n",
              "      <td>0</td>\n",
              "      <td>0</td>\n",
              "      <td>0</td>\n",
              "      <td>1</td>\n",
              "      <td>0</td>\n",
              "      <td>0</td>\n",
              "      <td>0</td>\n",
              "      <td>0</td>\n",
              "      <td>no</td>\n",
              "    </tr>\n",
              "  </tbody>\n",
              "</table>\n",
              "</div>\n",
              "      <button class=\"colab-df-convert\" onclick=\"convertToInteractive('df-91bc2093-9df5-4510-9ab1-91b43a247416')\"\n",
              "              title=\"Convert this dataframe to an interactive table.\"\n",
              "              style=\"display:none;\">\n",
              "        \n",
              "  <svg xmlns=\"http://www.w3.org/2000/svg\" height=\"24px\"viewBox=\"0 0 24 24\"\n",
              "       width=\"24px\">\n",
              "    <path d=\"M0 0h24v24H0V0z\" fill=\"none\"/>\n",
              "    <path d=\"M18.56 5.44l.94 2.06.94-2.06 2.06-.94-2.06-.94-.94-2.06-.94 2.06-2.06.94zm-11 1L8.5 8.5l.94-2.06 2.06-.94-2.06-.94L8.5 2.5l-.94 2.06-2.06.94zm10 10l.94 2.06.94-2.06 2.06-.94-2.06-.94-.94-2.06-.94 2.06-2.06.94z\"/><path d=\"M17.41 7.96l-1.37-1.37c-.4-.4-.92-.59-1.43-.59-.52 0-1.04.2-1.43.59L10.3 9.45l-7.72 7.72c-.78.78-.78 2.05 0 2.83L4 21.41c.39.39.9.59 1.41.59.51 0 1.02-.2 1.41-.59l7.78-7.78 2.81-2.81c.8-.78.8-2.07 0-2.86zM5.41 20L4 18.59l7.72-7.72 1.47 1.35L5.41 20z\"/>\n",
              "  </svg>\n",
              "      </button>\n",
              "      \n",
              "  <style>\n",
              "    .colab-df-container {\n",
              "      display:flex;\n",
              "      flex-wrap:wrap;\n",
              "      gap: 12px;\n",
              "    }\n",
              "\n",
              "    .colab-df-convert {\n",
              "      background-color: #E8F0FE;\n",
              "      border: none;\n",
              "      border-radius: 50%;\n",
              "      cursor: pointer;\n",
              "      display: none;\n",
              "      fill: #1967D2;\n",
              "      height: 32px;\n",
              "      padding: 0 0 0 0;\n",
              "      width: 32px;\n",
              "    }\n",
              "\n",
              "    .colab-df-convert:hover {\n",
              "      background-color: #E2EBFA;\n",
              "      box-shadow: 0px 1px 2px rgba(60, 64, 67, 0.3), 0px 1px 3px 1px rgba(60, 64, 67, 0.15);\n",
              "      fill: #174EA6;\n",
              "    }\n",
              "\n",
              "    [theme=dark] .colab-df-convert {\n",
              "      background-color: #3B4455;\n",
              "      fill: #D2E3FC;\n",
              "    }\n",
              "\n",
              "    [theme=dark] .colab-df-convert:hover {\n",
              "      background-color: #434B5C;\n",
              "      box-shadow: 0px 1px 3px 1px rgba(0, 0, 0, 0.15);\n",
              "      filter: drop-shadow(0px 1px 2px rgba(0, 0, 0, 0.3));\n",
              "      fill: #FFFFFF;\n",
              "    }\n",
              "  </style>\n",
              "\n",
              "      <script>\n",
              "        const buttonEl =\n",
              "          document.querySelector('#df-91bc2093-9df5-4510-9ab1-91b43a247416 button.colab-df-convert');\n",
              "        buttonEl.style.display =\n",
              "          google.colab.kernel.accessAllowed ? 'block' : 'none';\n",
              "\n",
              "        async function convertToInteractive(key) {\n",
              "          const element = document.querySelector('#df-91bc2093-9df5-4510-9ab1-91b43a247416');\n",
              "          const dataTable =\n",
              "            await google.colab.kernel.invokeFunction('convertToInteractive',\n",
              "                                                     [key], {});\n",
              "          if (!dataTable) return;\n",
              "\n",
              "          const docLinkHtml = 'Like what you see? Visit the ' +\n",
              "            '<a target=\"_blank\" href=https://colab.research.google.com/notebooks/data_table.ipynb>data table notebook</a>'\n",
              "            + ' to learn more about interactive tables.';\n",
              "          element.innerHTML = '';\n",
              "          dataTable['output_type'] = 'display_data';\n",
              "          await google.colab.output.renderOutput(dataTable, element);\n",
              "          const docLink = document.createElement('div');\n",
              "          docLink.innerHTML = docLinkHtml;\n",
              "          element.appendChild(docLink);\n",
              "        }\n",
              "      </script>\n",
              "    </div>\n",
              "  </div>\n",
              "  "
            ]
          },
          "metadata": {},
          "execution_count": 119
        }
      ]
    },
    {
      "cell_type": "markdown",
      "source": [
        ""
      ],
      "metadata": {
        "id": "1uDCT3JpU4NJ"
      }
    },
    {
      "cell_type": "markdown",
      "metadata": {
        "id": "BrJxKcjwqqIb"
      },
      "source": [
        "<div class=\"alert alert-block alert-warning\">**End Activity**</div>"
      ]
    },
    {
      "cell_type": "markdown",
      "metadata": {
        "id": "821Zp9cvqqIb"
      },
      "source": [
        "## 5.3 Saving our new cleaned dataset with dummy variables using 'pickle'.\n",
        "\n",
        "For this we will use 'pickle'. Pickle is used to store python objects (lists, dictionaries, dataframes) in a file that we can call or load after. In our case, we will store our dataset in pickle and load it in the following exercises of this an other Chapters. \n",
        "\n",
        "First, we will open a file that we will call 'hospital_data.pickle'. Then, we will use `pickle.dump()` to put the dataset into the opened file, then close. [More information](https://docs.python.org/3/library/pickle.html)\n"
      ]
    },
    {
      "cell_type": "code",
      "execution_count": 120,
      "metadata": {
        "id": "iqADd3DtqqIc"
      },
      "outputs": [],
      "source": [
        "import pickle\n",
        "pickle_path = Path(project_path) /'hospital_data.pickle' # 'hospital.pickle' will be our final file\n",
        "\n",
        "with open(pickle_path, 'wb') as output:\n",
        "    pickle.dump(hospital, output)"
      ]
    },
    {
      "cell_type": "markdown",
      "source": [
        "Check that the `hospital_data.pickle` was saved correctly in your Google Drive:\n",
        "\n",
        "![alt text](https://drive.google.com/uc?export=view&id=1iUskz06pIYefMaqNVdV93v1KW1xENFbu)"
      ],
      "metadata": {
        "id": "1KitDj5CajDc"
      }
    },
    {
      "cell_type": "markdown",
      "metadata": {
        "id": "liF6mfyKqqIc"
      },
      "source": [
        "**Note:** If we want to load our dataset back, we can use the following script. We will use this code in the following exercise (no need to use it in this exercise)."
      ]
    },
    {
      "cell_type": "code",
      "execution_count": 121,
      "metadata": {
        "id": "p7Y611eIqqIc"
      },
      "outputs": [],
      "source": [
        "# import pickle\n",
        "\n",
        "# with open(pickle_path, 'rb') as data:\n",
        "#    hospital = pickle.load(data)"
      ]
    },
    {
      "cell_type": "markdown",
      "metadata": {
        "id": "eX0n7umcKYGg"
      },
      "source": [
        "© 2022 Copyright The University of New South Wales - CRICOS 00098G"
      ]
    }
  ],
  "metadata": {
    "colab": {
      "name": "Week-02-Exercise01.ipynb",
      "provenance": [],
      "include_colab_link": true
    },
    "interpreter": {
      "hash": "aee8b7b246df8f9039afb4144a1f6fd8d2ca17a180786b69acc140d282b71a49"
    },
    "kernelspec": {
      "display_name": "Python 3.7.4 64-bit",
      "language": "python",
      "name": "python3"
    },
    "language_info": {
      "codemirror_mode": {
        "name": "ipython",
        "version": 3
      },
      "file_extension": ".py",
      "mimetype": "text/x-python",
      "name": "python",
      "nbconvert_exporter": "python",
      "pygments_lexer": "ipython3",
      "version": "3.7.4"
    }
  },
  "nbformat": 4,
  "nbformat_minor": 0
}